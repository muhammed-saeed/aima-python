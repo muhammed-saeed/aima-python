{
  "nbformat": 4,
  "nbformat_minor": 0,
  "metadata": {
    "kernelspec": {
      "display_name": "Python 3",
      "language": "python",
      "name": "python3"
    },
    "language_info": {
      "codemirror_mode": {
        "name": "ipython",
        "version": 3
      },
      "file_extension": ".py",
      "mimetype": "text/x-python",
      "name": "python",
      "nbconvert_exporter": "python",
      "pygments_lexer": "ipython3",
      "version": "3.6.4"
    },
    "colab": {
      "name": " Vacum world Assignment.ipynb",
      "provenance": [],
      "collapsed_sections": [
        "y7PsjVgzLJEl",
        "Nx52ettpLJE5",
        "-lxHry9DLJE5"
      ]
    }
  },
  "cells": [
    {
      "cell_type": "markdown",
      "metadata": {
        "id": "U6FITk-ILJEJ"
      },
      "source": [
        "# THE VACUUM WORLD   \n",
        "\n",
        "In this notebook, we will be discussing **the structure of agents** through an example of the **vacuum agent**. The job of AI is to design an **agent program** that implements the agent function: the mapping from percepts to actions. We assume this program will run on some sort of computing device with physical sensors and actuators: we call this the **architecture**:\n",
        "\n",
        "<h3 align=\"center\">agent = architecture + program</h3>"
      ]
    },
    {
      "cell_type": "markdown",
      "metadata": {
        "id": "_fwLDFdvLJEX"
      },
      "source": [
        "## CONTENTS\n",
        "\n",
        "* Agent\n",
        "* Random Agent Program\n",
        "* Table-Driven Agent Program\n",
        "* Simple Reflex Agent Program\n",
        "* Model-Based Reflex Agent Program\n",
        "* Goal-Based Agent Program\n",
        "* Utility-Based Agent Program\n",
        "* Learning Agent"
      ]
    },
    {
      "cell_type": "markdown",
      "metadata": {
        "id": "EsV3cPanLJEY"
      },
      "source": [
        "## AGENT PROGRAMS\n",
        "\n",
        "An agent program takes the current percept as input from the sensors and returns an action to the actuators. There is a difference between an agent program and an agent function: an agent program takes the current percept as input whereas an agent function takes the entire percept history.\n",
        "\n",
        "The agent program takes just the current percept as input because nothing more is available from the environment; if the agent's actions depend on the entire percept sequence, the agent will have to remember the percept.\n",
        "\n",
        "We'll discuss the following agent programs here with the help of the vacuum world example:\n",
        "\n",
        "* Random Agent Program\n",
        "* Table-Driven Agent Program\n",
        "* Simple Reflex Agent Program\n",
        "* Model-Based Reflex Agent Program\n",
        "* Goal-Based Agent Program\n",
        "* Utility-Based Agent Program"
      ]
    },
    {
      "cell_type": "code",
      "metadata": {
        "id": "hXLLFVWhRck6",
        "colab": {
          "base_uri": "https://localhost:8080/"
        },
        "outputId": "6adba680-9d5a-441b-b81b-7f57a67d1594"
      },
      "source": [
        "#@title\n",
        "!git clone  --recurse-submodules https://github.com/aimacode/aima-python\n",
        "!pip install -r aima-python/requirements.txt\n",
        "\n",
        "!cd aima-python/\n",
        "#!rm -rf aima-data/\n",
        "#!git clone https://github.com/aimacode/aima-data.git\n",
        "#from search import *\n",
        "%matplotlib inline\n",
        "import networkx as nx\n",
        "import matplotlib.pyplot as plt\n",
        "from matplotlib import lines\n",
        "from collections import deque\n",
        "\n",
        "from ipywidgets import interact\n",
        "import ipywidgets as widgets\n",
        "from IPython.display import display\n",
        "import time\n",
        "#from notebook import psource, heatmap, gaussian_kernel, show_map, final_path_colors, display_visual, plot_NQueens\n",
        "\n",
        "# Needed to hide warnings in the matplotlib sections\n",
        "import warnings\n",
        "warnings.filterwarnings(\"ignore\")\n"
      ],
      "execution_count": null,
      "outputs": [
        {
          "output_type": "stream",
          "text": [
            "Cloning into 'aima-python'...\n",
            "remote: Enumerating objects: 5092, done.\u001b[K\n",
            "remote: Total 5092 (delta 0), reused 0 (delta 0), pack-reused 5092\u001b[K\n",
            "Receiving objects: 100% (5092/5092), 17.43 MiB | 30.11 MiB/s, done.\n",
            "Resolving deltas: 100% (3416/3416), done.\n",
            "Submodule 'aima-data' (https://github.com/aimacode/aima-data.git) registered for path 'aima-data'\n",
            "Cloning into '/content/aima-python/aima-data'...\n",
            "remote: Enumerating objects: 168, done.        \n",
            "remote: Total 168 (delta 0), reused 0 (delta 0), pack-reused 168        \n",
            "Receiving objects: 100% (168/168), 44.07 MiB | 24.33 MiB/s, done.\n",
            "Resolving deltas: 100% (38/38), done.\n",
            "Submodule path 'aima-data': checked out 'f6cbea61ad0c21c6b7be826d17af5a8d3a7c2c86'\n",
            "Requirement already satisfied: cvxopt in /usr/local/lib/python3.7/dist-packages (from -r aima-python/requirements.txt (line 1)) (1.2.6)\n",
            "Collecting image\n",
            "  Downloading https://files.pythonhosted.org/packages/84/be/961693ed384aa91bcc07525c90e3a34bc06c75f131655dfe21310234c933/image-1.5.33.tar.gz\n",
            "Requirement already satisfied: ipython in /usr/local/lib/python3.7/dist-packages (from -r aima-python/requirements.txt (line 3)) (5.5.0)\n",
            "Collecting ipythonblocks\n",
            "  Downloading https://files.pythonhosted.org/packages/0a/2e/2ffc1f1f17fe48f98c9004b2612336384827b5c5889340027fd6046a7e7a/ipythonblocks-1.9.0-py2.py3-none-any.whl\n",
            "Requirement already satisfied: ipywidgets in /usr/local/lib/python3.7/dist-packages (from -r aima-python/requirements.txt (line 5)) (7.6.3)\n",
            "Requirement already satisfied: jupyter in /usr/local/lib/python3.7/dist-packages (from -r aima-python/requirements.txt (line 6)) (1.0.0)\n",
            "Requirement already satisfied: keras in /usr/local/lib/python3.7/dist-packages (from -r aima-python/requirements.txt (line 7)) (2.4.3)\n",
            "Requirement already satisfied: matplotlib in /usr/local/lib/python3.7/dist-packages (from -r aima-python/requirements.txt (line 8)) (3.2.2)\n",
            "Requirement already satisfied: networkx in /usr/local/lib/python3.7/dist-packages (from -r aima-python/requirements.txt (line 9)) (2.5.1)\n",
            "Requirement already satisfied: numpy in /usr/local/lib/python3.7/dist-packages (from -r aima-python/requirements.txt (line 10)) (1.19.5)\n",
            "Requirement already satisfied: opencv-python in /usr/local/lib/python3.7/dist-packages (from -r aima-python/requirements.txt (line 11)) (4.1.2.30)\n",
            "Requirement already satisfied: pandas in /usr/local/lib/python3.7/dist-packages (from -r aima-python/requirements.txt (line 12)) (1.1.5)\n",
            "Requirement already satisfied: pillow in /usr/local/lib/python3.7/dist-packages (from -r aima-python/requirements.txt (line 13)) (7.1.2)\n",
            "Collecting pytest-cov\n",
            "  Downloading https://files.pythonhosted.org/packages/e3/1a/6affecd2344efee7f2487fac82242474cbac09f9e04929da5944907baf11/pytest_cov-2.11.1-py2.py3-none-any.whl\n",
            "Collecting qpsolvers\n",
            "  Downloading https://files.pythonhosted.org/packages/d2/84/4775a9d3497fed47d77a1996baee409c8f67b670a00b75ac375036875168/qpsolvers-1.6.1-py3-none-any.whl\n",
            "Requirement already satisfied: scipy in /usr/local/lib/python3.7/dist-packages (from -r aima-python/requirements.txt (line 16)) (1.4.1)\n",
            "Requirement already satisfied: sortedcontainers in /usr/local/lib/python3.7/dist-packages (from -r aima-python/requirements.txt (line 17)) (2.3.0)\n",
            "Requirement already satisfied: tensorflow in /usr/local/lib/python3.7/dist-packages (from -r aima-python/requirements.txt (line 18)) (2.4.1)\n",
            "Collecting django\n",
            "\u001b[?25l  Downloading https://files.pythonhosted.org/packages/a8/9b/fe94c509e514f6c227308e81076506eb9d67f2bfb8061ce5cdfbde0432e3/Django-3.2-py3-none-any.whl (7.9MB)\n",
            "\u001b[K     |████████████████████████████████| 7.9MB 31.8MB/s \n",
            "\u001b[?25hRequirement already satisfied: six in /usr/local/lib/python3.7/dist-packages (from image->-r aima-python/requirements.txt (line 2)) (1.15.0)\n",
            "Requirement already satisfied: prompt-toolkit<2.0.0,>=1.0.4 in /usr/local/lib/python3.7/dist-packages (from ipython->-r aima-python/requirements.txt (line 3)) (1.0.18)\n",
            "Requirement already satisfied: pygments in /usr/local/lib/python3.7/dist-packages (from ipython->-r aima-python/requirements.txt (line 3)) (2.6.1)\n",
            "Requirement already satisfied: pexpect; sys_platform != \"win32\" in /usr/local/lib/python3.7/dist-packages (from ipython->-r aima-python/requirements.txt (line 3)) (4.8.0)\n",
            "Requirement already satisfied: setuptools>=18.5 in /usr/local/lib/python3.7/dist-packages (from ipython->-r aima-python/requirements.txt (line 3)) (56.0.0)\n",
            "Requirement already satisfied: traitlets>=4.2 in /usr/local/lib/python3.7/dist-packages (from ipython->-r aima-python/requirements.txt (line 3)) (5.0.5)\n",
            "Requirement already satisfied: pickleshare in /usr/local/lib/python3.7/dist-packages (from ipython->-r aima-python/requirements.txt (line 3)) (0.7.5)\n",
            "Requirement already satisfied: decorator in /usr/local/lib/python3.7/dist-packages (from ipython->-r aima-python/requirements.txt (line 3)) (4.4.2)\n",
            "Requirement already satisfied: simplegeneric>0.8 in /usr/local/lib/python3.7/dist-packages (from ipython->-r aima-python/requirements.txt (line 3)) (0.8.1)\n",
            "Requirement already satisfied: notebook>=4.0 in /usr/local/lib/python3.7/dist-packages (from ipythonblocks->-r aima-python/requirements.txt (line 4)) (5.3.1)\n",
            "Requirement already satisfied: requests>=1.0 in /usr/local/lib/python3.7/dist-packages (from ipythonblocks->-r aima-python/requirements.txt (line 4)) (2.23.0)\n",
            "Requirement already satisfied: nbformat>=4.2.0 in /usr/local/lib/python3.7/dist-packages (from ipywidgets->-r aima-python/requirements.txt (line 5)) (5.1.3)\n",
            "Requirement already satisfied: ipykernel>=4.5.1 in /usr/local/lib/python3.7/dist-packages (from ipywidgets->-r aima-python/requirements.txt (line 5)) (4.10.1)\n",
            "Requirement already satisfied: widgetsnbextension~=3.5.0 in /usr/local/lib/python3.7/dist-packages (from ipywidgets->-r aima-python/requirements.txt (line 5)) (3.5.1)\n",
            "Requirement already satisfied: jupyterlab-widgets>=1.0.0; python_version >= \"3.6\" in /usr/local/lib/python3.7/dist-packages (from ipywidgets->-r aima-python/requirements.txt (line 5)) (1.0.0)\n",
            "Requirement already satisfied: qtconsole in /usr/local/lib/python3.7/dist-packages (from jupyter->-r aima-python/requirements.txt (line 6)) (5.0.3)\n",
            "Requirement already satisfied: nbconvert in /usr/local/lib/python3.7/dist-packages (from jupyter->-r aima-python/requirements.txt (line 6)) (5.6.1)\n",
            "Requirement already satisfied: jupyter-console in /usr/local/lib/python3.7/dist-packages (from jupyter->-r aima-python/requirements.txt (line 6)) (5.2.0)\n",
            "Requirement already satisfied: pyyaml in /usr/local/lib/python3.7/dist-packages (from keras->-r aima-python/requirements.txt (line 7)) (3.13)\n",
            "Requirement already satisfied: h5py in /usr/local/lib/python3.7/dist-packages (from keras->-r aima-python/requirements.txt (line 7)) (2.10.0)\n",
            "Requirement already satisfied: python-dateutil>=2.1 in /usr/local/lib/python3.7/dist-packages (from matplotlib->-r aima-python/requirements.txt (line 8)) (2.8.1)\n",
            "Requirement already satisfied: kiwisolver>=1.0.1 in /usr/local/lib/python3.7/dist-packages (from matplotlib->-r aima-python/requirements.txt (line 8)) (1.3.1)\n",
            "Requirement already satisfied: pyparsing!=2.0.4,!=2.1.2,!=2.1.6,>=2.0.1 in /usr/local/lib/python3.7/dist-packages (from matplotlib->-r aima-python/requirements.txt (line 8)) (2.4.7)\n",
            "Requirement already satisfied: cycler>=0.10 in /usr/local/lib/python3.7/dist-packages (from matplotlib->-r aima-python/requirements.txt (line 8)) (0.10.0)\n",
            "Requirement already satisfied: pytz>=2017.2 in /usr/local/lib/python3.7/dist-packages (from pandas->-r aima-python/requirements.txt (line 12)) (2018.9)\n",
            "Collecting coverage>=5.2.1\n",
            "\u001b[?25l  Downloading https://files.pythonhosted.org/packages/16/e0/fc9f7bd9b84e6b41d0aad1a113e36714aac0c0a9b307aca5f9af443bc50f/coverage-5.5-cp37-cp37m-manylinux2010_x86_64.whl (242kB)\n",
            "\u001b[K     |████████████████████████████████| 245kB 41.9MB/s \n",
            "\u001b[?25hCollecting pytest>=4.6\n",
            "\u001b[?25l  Downloading https://files.pythonhosted.org/packages/76/4d/9c00146923da9f1cabd1878209d71b1380d537ec331a1a613e8f4b9d7985/pytest-6.2.3-py3-none-any.whl (280kB)\n",
            "\u001b[K     |████████████████████████████████| 286kB 55.2MB/s \n",
            "\u001b[?25hCollecting quadprog>=0.1.8\n",
            "\u001b[?25l  Downloading https://files.pythonhosted.org/packages/31/c7/833d7b5b53fff5b9042803aa8096207d8e038ca42052f074d4ad8cddbfc5/quadprog-0.1.8.tar.gz (269kB)\n",
            "\u001b[K     |████████████████████████████████| 276kB 48.9MB/s \n",
            "\u001b[?25hRequirement already satisfied: google-pasta~=0.2 in /usr/local/lib/python3.7/dist-packages (from tensorflow->-r aima-python/requirements.txt (line 18)) (0.2.0)\n",
            "Requirement already satisfied: wrapt~=1.12.1 in /usr/local/lib/python3.7/dist-packages (from tensorflow->-r aima-python/requirements.txt (line 18)) (1.12.1)\n",
            "Requirement already satisfied: termcolor~=1.1.0 in /usr/local/lib/python3.7/dist-packages (from tensorflow->-r aima-python/requirements.txt (line 18)) (1.1.0)\n",
            "Requirement already satisfied: absl-py~=0.10 in /usr/local/lib/python3.7/dist-packages (from tensorflow->-r aima-python/requirements.txt (line 18)) (0.12.0)\n",
            "Requirement already satisfied: flatbuffers~=1.12.0 in /usr/local/lib/python3.7/dist-packages (from tensorflow->-r aima-python/requirements.txt (line 18)) (1.12)\n",
            "Requirement already satisfied: gast==0.3.3 in /usr/local/lib/python3.7/dist-packages (from tensorflow->-r aima-python/requirements.txt (line 18)) (0.3.3)\n",
            "Requirement already satisfied: tensorflow-estimator<2.5.0,>=2.4.0 in /usr/local/lib/python3.7/dist-packages (from tensorflow->-r aima-python/requirements.txt (line 18)) (2.4.0)\n",
            "Requirement already satisfied: opt-einsum~=3.3.0 in /usr/local/lib/python3.7/dist-packages (from tensorflow->-r aima-python/requirements.txt (line 18)) (3.3.0)\n",
            "Requirement already satisfied: astunparse~=1.6.3 in /usr/local/lib/python3.7/dist-packages (from tensorflow->-r aima-python/requirements.txt (line 18)) (1.6.3)\n",
            "Requirement already satisfied: typing-extensions~=3.7.4 in /usr/local/lib/python3.7/dist-packages (from tensorflow->-r aima-python/requirements.txt (line 18)) (3.7.4.3)\n",
            "Requirement already satisfied: tensorboard~=2.4 in /usr/local/lib/python3.7/dist-packages (from tensorflow->-r aima-python/requirements.txt (line 18)) (2.4.1)\n",
            "Requirement already satisfied: grpcio~=1.32.0 in /usr/local/lib/python3.7/dist-packages (from tensorflow->-r aima-python/requirements.txt (line 18)) (1.32.0)\n",
            "Requirement already satisfied: wheel~=0.35 in /usr/local/lib/python3.7/dist-packages (from tensorflow->-r aima-python/requirements.txt (line 18)) (0.36.2)\n",
            "Requirement already satisfied: protobuf>=3.9.2 in /usr/local/lib/python3.7/dist-packages (from tensorflow->-r aima-python/requirements.txt (line 18)) (3.12.4)\n",
            "Requirement already satisfied: keras-preprocessing~=1.1.2 in /usr/local/lib/python3.7/dist-packages (from tensorflow->-r aima-python/requirements.txt (line 18)) (1.1.2)\n",
            "Collecting asgiref<4,>=3.3.2\n",
            "  Downloading https://files.pythonhosted.org/packages/17/8b/05e225d11154b8f5358e6a6d277679c9741ec0339d1e451c9cef687a9170/asgiref-3.3.4-py3-none-any.whl\n",
            "Requirement already satisfied: sqlparse>=0.2.2 in /usr/local/lib/python3.7/dist-packages (from django->image->-r aima-python/requirements.txt (line 2)) (0.4.1)\n",
            "Requirement already satisfied: wcwidth in /usr/local/lib/python3.7/dist-packages (from prompt-toolkit<2.0.0,>=1.0.4->ipython->-r aima-python/requirements.txt (line 3)) (0.2.5)\n",
            "Requirement already satisfied: ptyprocess>=0.5 in /usr/local/lib/python3.7/dist-packages (from pexpect; sys_platform != \"win32\"->ipython->-r aima-python/requirements.txt (line 3)) (0.7.0)\n",
            "Requirement already satisfied: ipython-genutils in /usr/local/lib/python3.7/dist-packages (from traitlets>=4.2->ipython->-r aima-python/requirements.txt (line 3)) (0.2.0)\n",
            "Requirement already satisfied: jinja2 in /usr/local/lib/python3.7/dist-packages (from notebook>=4.0->ipythonblocks->-r aima-python/requirements.txt (line 4)) (2.11.3)\n",
            "Requirement already satisfied: jupyter-core>=4.4.0 in /usr/local/lib/python3.7/dist-packages (from notebook>=4.0->ipythonblocks->-r aima-python/requirements.txt (line 4)) (4.7.1)\n",
            "Requirement already satisfied: Send2Trash in /usr/local/lib/python3.7/dist-packages (from notebook>=4.0->ipythonblocks->-r aima-python/requirements.txt (line 4)) (1.5.0)\n",
            "Requirement already satisfied: tornado>=4 in /usr/local/lib/python3.7/dist-packages (from notebook>=4.0->ipythonblocks->-r aima-python/requirements.txt (line 4)) (5.1.1)\n",
            "Requirement already satisfied: terminado>=0.8.1 in /usr/local/lib/python3.7/dist-packages (from notebook>=4.0->ipythonblocks->-r aima-python/requirements.txt (line 4)) (0.9.4)\n",
            "Requirement already satisfied: jupyter-client>=5.2.0 in /usr/local/lib/python3.7/dist-packages (from notebook>=4.0->ipythonblocks->-r aima-python/requirements.txt (line 4)) (5.3.5)\n",
            "Requirement already satisfied: idna<3,>=2.5 in /usr/local/lib/python3.7/dist-packages (from requests>=1.0->ipythonblocks->-r aima-python/requirements.txt (line 4)) (2.10)\n",
            "Requirement already satisfied: certifi>=2017.4.17 in /usr/local/lib/python3.7/dist-packages (from requests>=1.0->ipythonblocks->-r aima-python/requirements.txt (line 4)) (2020.12.5)\n",
            "Requirement already satisfied: chardet<4,>=3.0.2 in /usr/local/lib/python3.7/dist-packages (from requests>=1.0->ipythonblocks->-r aima-python/requirements.txt (line 4)) (3.0.4)\n",
            "Requirement already satisfied: urllib3!=1.25.0,!=1.25.1,<1.26,>=1.21.1 in /usr/local/lib/python3.7/dist-packages (from requests>=1.0->ipythonblocks->-r aima-python/requirements.txt (line 4)) (1.24.3)\n",
            "Requirement already satisfied: jsonschema!=2.5.0,>=2.4 in /usr/local/lib/python3.7/dist-packages (from nbformat>=4.2.0->ipywidgets->-r aima-python/requirements.txt (line 5)) (2.6.0)\n",
            "Requirement already satisfied: qtpy in /usr/local/lib/python3.7/dist-packages (from qtconsole->jupyter->-r aima-python/requirements.txt (line 6)) (1.9.0)\n",
            "Requirement already satisfied: pyzmq>=17.1 in /usr/local/lib/python3.7/dist-packages (from qtconsole->jupyter->-r aima-python/requirements.txt (line 6)) (22.0.3)\n",
            "Requirement already satisfied: pandocfilters>=1.4.1 in /usr/local/lib/python3.7/dist-packages (from nbconvert->jupyter->-r aima-python/requirements.txt (line 6)) (1.4.3)\n",
            "Requirement already satisfied: defusedxml in /usr/local/lib/python3.7/dist-packages (from nbconvert->jupyter->-r aima-python/requirements.txt (line 6)) (0.7.1)\n",
            "Requirement already satisfied: mistune<2,>=0.8.1 in /usr/local/lib/python3.7/dist-packages (from nbconvert->jupyter->-r aima-python/requirements.txt (line 6)) (0.8.4)\n",
            "Requirement already satisfied: testpath in /usr/local/lib/python3.7/dist-packages (from nbconvert->jupyter->-r aima-python/requirements.txt (line 6)) (0.4.4)\n",
            "Requirement already satisfied: bleach in /usr/local/lib/python3.7/dist-packages (from nbconvert->jupyter->-r aima-python/requirements.txt (line 6)) (3.3.0)\n",
            "Requirement already satisfied: entrypoints>=0.2.2 in /usr/local/lib/python3.7/dist-packages (from nbconvert->jupyter->-r aima-python/requirements.txt (line 6)) (0.3)\n",
            "Requirement already satisfied: toml in /usr/local/lib/python3.7/dist-packages (from pytest>=4.6->pytest-cov->-r aima-python/requirements.txt (line 14)) (0.10.2)\n",
            "Requirement already satisfied: importlib-metadata>=0.12; python_version < \"3.8\" in /usr/local/lib/python3.7/dist-packages (from pytest>=4.6->pytest-cov->-r aima-python/requirements.txt (line 14)) (3.10.1)\n",
            "Collecting pluggy<1.0.0a1,>=0.12\n",
            "  Downloading https://files.pythonhosted.org/packages/a0/28/85c7aa31b80d150b772fbe4a229487bc6644da9ccb7e427dd8cc60cb8a62/pluggy-0.13.1-py2.py3-none-any.whl\n",
            "Requirement already satisfied: attrs>=19.2.0 in /usr/local/lib/python3.7/dist-packages (from pytest>=4.6->pytest-cov->-r aima-python/requirements.txt (line 14)) (20.3.0)\n",
            "Requirement already satisfied: iniconfig in /usr/local/lib/python3.7/dist-packages (from pytest>=4.6->pytest-cov->-r aima-python/requirements.txt (line 14)) (1.1.1)\n",
            "Requirement already satisfied: packaging in /usr/local/lib/python3.7/dist-packages (from pytest>=4.6->pytest-cov->-r aima-python/requirements.txt (line 14)) (20.9)\n",
            "Requirement already satisfied: py>=1.8.2 in /usr/local/lib/python3.7/dist-packages (from pytest>=4.6->pytest-cov->-r aima-python/requirements.txt (line 14)) (1.10.0)\n",
            "Requirement already satisfied: Cython in /usr/local/lib/python3.7/dist-packages (from quadprog>=0.1.8->qpsolvers->-r aima-python/requirements.txt (line 15)) (0.29.22)\n",
            "Requirement already satisfied: markdown>=2.6.8 in /usr/local/lib/python3.7/dist-packages (from tensorboard~=2.4->tensorflow->-r aima-python/requirements.txt (line 18)) (3.3.4)\n",
            "Requirement already satisfied: google-auth-oauthlib<0.5,>=0.4.1 in /usr/local/lib/python3.7/dist-packages (from tensorboard~=2.4->tensorflow->-r aima-python/requirements.txt (line 18)) (0.4.4)\n",
            "Requirement already satisfied: tensorboard-plugin-wit>=1.6.0 in /usr/local/lib/python3.7/dist-packages (from tensorboard~=2.4->tensorflow->-r aima-python/requirements.txt (line 18)) (1.8.0)\n",
            "Requirement already satisfied: google-auth<2,>=1.6.3 in /usr/local/lib/python3.7/dist-packages (from tensorboard~=2.4->tensorflow->-r aima-python/requirements.txt (line 18)) (1.28.1)\n",
            "Requirement already satisfied: werkzeug>=0.11.15 in /usr/local/lib/python3.7/dist-packages (from tensorboard~=2.4->tensorflow->-r aima-python/requirements.txt (line 18)) (1.0.1)\n",
            "Requirement already satisfied: MarkupSafe>=0.23 in /usr/local/lib/python3.7/dist-packages (from jinja2->notebook>=4.0->ipythonblocks->-r aima-python/requirements.txt (line 4)) (1.1.1)\n",
            "Requirement already satisfied: webencodings in /usr/local/lib/python3.7/dist-packages (from bleach->nbconvert->jupyter->-r aima-python/requirements.txt (line 6)) (0.5.1)\n",
            "Requirement already satisfied: zipp>=0.5 in /usr/local/lib/python3.7/dist-packages (from importlib-metadata>=0.12; python_version < \"3.8\"->pytest>=4.6->pytest-cov->-r aima-python/requirements.txt (line 14)) (3.4.1)\n",
            "Requirement already satisfied: requests-oauthlib>=0.7.0 in /usr/local/lib/python3.7/dist-packages (from google-auth-oauthlib<0.5,>=0.4.1->tensorboard~=2.4->tensorflow->-r aima-python/requirements.txt (line 18)) (1.3.0)\n",
            "Requirement already satisfied: cachetools<5.0,>=2.0.0 in /usr/local/lib/python3.7/dist-packages (from google-auth<2,>=1.6.3->tensorboard~=2.4->tensorflow->-r aima-python/requirements.txt (line 18)) (4.2.1)\n",
            "Requirement already satisfied: rsa<5,>=3.1.4; python_version >= \"3.6\" in /usr/local/lib/python3.7/dist-packages (from google-auth<2,>=1.6.3->tensorboard~=2.4->tensorflow->-r aima-python/requirements.txt (line 18)) (4.7.2)\n",
            "Requirement already satisfied: pyasn1-modules>=0.2.1 in /usr/local/lib/python3.7/dist-packages (from google-auth<2,>=1.6.3->tensorboard~=2.4->tensorflow->-r aima-python/requirements.txt (line 18)) (0.2.8)\n",
            "Requirement already satisfied: oauthlib>=3.0.0 in /usr/local/lib/python3.7/dist-packages (from requests-oauthlib>=0.7.0->google-auth-oauthlib<0.5,>=0.4.1->tensorboard~=2.4->tensorflow->-r aima-python/requirements.txt (line 18)) (3.1.0)\n",
            "Requirement already satisfied: pyasn1>=0.1.3 in /usr/local/lib/python3.7/dist-packages (from rsa<5,>=3.1.4; python_version >= \"3.6\"->google-auth<2,>=1.6.3->tensorboard~=2.4->tensorflow->-r aima-python/requirements.txt (line 18)) (0.4.8)\n",
            "Building wheels for collected packages: image, quadprog\n",
            "  Building wheel for image (setup.py) ... \u001b[?25l\u001b[?25hdone\n",
            "  Created wheel for image: filename=image-1.5.33-py2.py3-none-any.whl size=19482 sha256=e978d047356558f46c76a5a51496e08b0aaf67ecfccb4995dbf7c8ed106f44de\n",
            "  Stored in directory: /root/.cache/pip/wheels/87/4c/60/d5904e69c837fcdea7e03ffa0c657f35ced7e398c6f3ca17cc\n",
            "  Building wheel for quadprog (setup.py) ... \u001b[?25l\u001b[?25hdone\n",
            "  Created wheel for quadprog: filename=quadprog-0.1.8-cp37-cp37m-linux_x86_64.whl size=336638 sha256=453ed15abe27e41455f808ed2c4a2defa9cd6fd1c4c9c8165c7620992adec3fb\n",
            "  Stored in directory: /root/.cache/pip/wheels/0c/39/5f/c712b0e462439dec9b30080cf34622f167929b39bd964d8baf\n",
            "Successfully built image quadprog\n",
            "\u001b[31mERROR: datascience 0.10.6 has requirement coverage==3.7.1, but you'll have coverage 5.5 which is incompatible.\u001b[0m\n",
            "\u001b[31mERROR: datascience 0.10.6 has requirement folium==0.2.1, but you'll have folium 0.8.3 which is incompatible.\u001b[0m\n",
            "\u001b[31mERROR: coveralls 0.5 has requirement coverage<3.999,>=3.6, but you'll have coverage 5.5 which is incompatible.\u001b[0m\n",
            "Installing collected packages: asgiref, django, image, ipythonblocks, coverage, pluggy, pytest, pytest-cov, quadprog, qpsolvers\n",
            "  Found existing installation: coverage 3.7.1\n",
            "    Uninstalling coverage-3.7.1:\n",
            "      Successfully uninstalled coverage-3.7.1\n",
            "  Found existing installation: pluggy 0.7.1\n",
            "    Uninstalling pluggy-0.7.1:\n",
            "      Successfully uninstalled pluggy-0.7.1\n",
            "  Found existing installation: pytest 3.6.4\n",
            "    Uninstalling pytest-3.6.4:\n",
            "      Successfully uninstalled pytest-3.6.4\n",
            "Successfully installed asgiref-3.3.4 coverage-5.5 django-3.2 image-1.5.33 ipythonblocks-1.9.0 pluggy-0.13.1 pytest-6.2.3 pytest-cov-2.11.1 qpsolvers-1.6.1 quadprog-0.1.8\n"
          ],
          "name": "stdout"
        }
      ]
    },
    {
      "cell_type": "code",
      "metadata": {
        "id": "quCIff81q55l",
        "colab": {
          "base_uri": "https://localhost:8080/"
        },
        "outputId": "e9e85c55-ace6-410d-c91b-1c5964b64bb8"
      },
      "source": [
        "cd aima-python"
      ],
      "execution_count": null,
      "outputs": [
        {
          "output_type": "stream",
          "text": [
            "/content/aima-python\n"
          ],
          "name": "stdout"
        }
      ]
    },
    {
      "cell_type": "markdown",
      "metadata": {
        "id": "uuMqDBLgLJEZ"
      },
      "source": [
        "## Random Agent Program\n",
        "\n",
        "A random agent program, as the name suggests, chooses an action at random, without taking into account the percepts.   \n",
        "Here, we will demonstrate a random vacuum agent for a trivial vacuum environment, that is, the two-state environment."
      ]
    },
    {
      "cell_type": "markdown",
      "metadata": {
        "id": "9GMKc2zhLJEZ"
      },
      "source": [
        "Let's begin by importing all the functions from the agents module:"
      ]
    },
    {
      "cell_type": "markdown",
      "metadata": {
        "id": "ER-SSwVjLJET"
      },
      "source": [
        "Before moving on, please review [<b>agents.ipynb</b>](https://github.com/aimacode/aima-python/blob/master/agents.ipynb)"
      ]
    },
    {
      "cell_type": "markdown",
      "metadata": {
        "id": "T5IJ7ovlNL32"
      },
      "source": [
        ""
      ]
    },
    {
      "cell_type": "code",
      "metadata": {
        "id": "vNYX4giNM_dy"
      },
      "source": [
        "from agents import *\n",
        "from notebook import psource"
      ],
      "execution_count": null,
      "outputs": []
    },
    {
      "cell_type": "markdown",
      "metadata": {
        "id": "1wWSy6oHLJEb"
      },
      "source": [
        "Let us first see how we define the TrivialVacuumEnvironment. Run the next cell to see how abstract class TrivialVacuumEnvironment is defined in agents module:"
      ]
    },
    {
      "cell_type": "code",
      "metadata": {
        "colab": {
          "base_uri": "https://localhost:8080/",
          "height": 629
        },
        "id": "a9vUBkm5LJEb",
        "outputId": "2e6cfb85-8c1b-4153-96e0-d500c51698db"
      },
      "source": [
        "psource(TrivialVacuumEnvironment)"
      ],
      "execution_count": null,
      "outputs": [
        {
          "output_type": "display_data",
          "data": {
            "text/html": [
              "<!DOCTYPE html PUBLIC \"-//W3C//DTD HTML 4.01//EN\"\n",
              "   \"http://www.w3.org/TR/html4/strict.dtd\">\n",
              "<!--\n",
              "generated by Pygments <https://pygments.org/>\n",
              "Copyright 2006-2019 by the Pygments team.\n",
              "Licensed under the BSD license, see LICENSE for details.\n",
              "-->\n",
              "<html>\n",
              "<head>\n",
              "  <title></title>\n",
              "  <meta http-equiv=\"content-type\" content=\"text/html; charset=None\">\n",
              "  <style type=\"text/css\">\n",
              "/*\n",
              "generated by Pygments <https://pygments.org/>\n",
              "Copyright 2006-2019 by the Pygments team.\n",
              "Licensed under the BSD license, see LICENSE for details.\n",
              "*/\n",
              "td.linenos { background-color: #f0f0f0; padding-right: 10px; }\n",
              "span.lineno { background-color: #f0f0f0; padding: 0 5px 0 5px; }\n",
              "pre { line-height: 125%; }\n",
              "body .hll { background-color: #ffffcc }\n",
              "body  { background: #f8f8f8; }\n",
              "body .c { color: #408080; font-style: italic } /* Comment */\n",
              "body .err { border: 1px solid #FF0000 } /* Error */\n",
              "body .k { color: #008000; font-weight: bold } /* Keyword */\n",
              "body .o { color: #666666 } /* Operator */\n",
              "body .ch { color: #408080; font-style: italic } /* Comment.Hashbang */\n",
              "body .cm { color: #408080; font-style: italic } /* Comment.Multiline */\n",
              "body .cp { color: #BC7A00 } /* Comment.Preproc */\n",
              "body .cpf { color: #408080; font-style: italic } /* Comment.PreprocFile */\n",
              "body .c1 { color: #408080; font-style: italic } /* Comment.Single */\n",
              "body .cs { color: #408080; font-style: italic } /* Comment.Special */\n",
              "body .gd { color: #A00000 } /* Generic.Deleted */\n",
              "body .ge { font-style: italic } /* Generic.Emph */\n",
              "body .gr { color: #FF0000 } /* Generic.Error */\n",
              "body .gh { color: #000080; font-weight: bold } /* Generic.Heading */\n",
              "body .gi { color: #00A000 } /* Generic.Inserted */\n",
              "body .go { color: #888888 } /* Generic.Output */\n",
              "body .gp { color: #000080; font-weight: bold } /* Generic.Prompt */\n",
              "body .gs { font-weight: bold } /* Generic.Strong */\n",
              "body .gu { color: #800080; font-weight: bold } /* Generic.Subheading */\n",
              "body .gt { color: #0044DD } /* Generic.Traceback */\n",
              "body .kc { color: #008000; font-weight: bold } /* Keyword.Constant */\n",
              "body .kd { color: #008000; font-weight: bold } /* Keyword.Declaration */\n",
              "body .kn { color: #008000; font-weight: bold } /* Keyword.Namespace */\n",
              "body .kp { color: #008000 } /* Keyword.Pseudo */\n",
              "body .kr { color: #008000; font-weight: bold } /* Keyword.Reserved */\n",
              "body .kt { color: #B00040 } /* Keyword.Type */\n",
              "body .m { color: #666666 } /* Literal.Number */\n",
              "body .s { color: #BA2121 } /* Literal.String */\n",
              "body .na { color: #7D9029 } /* Name.Attribute */\n",
              "body .nb { color: #008000 } /* Name.Builtin */\n",
              "body .nc { color: #0000FF; font-weight: bold } /* Name.Class */\n",
              "body .no { color: #880000 } /* Name.Constant */\n",
              "body .nd { color: #AA22FF } /* Name.Decorator */\n",
              "body .ni { color: #999999; font-weight: bold } /* Name.Entity */\n",
              "body .ne { color: #D2413A; font-weight: bold } /* Name.Exception */\n",
              "body .nf { color: #0000FF } /* Name.Function */\n",
              "body .nl { color: #A0A000 } /* Name.Label */\n",
              "body .nn { color: #0000FF; font-weight: bold } /* Name.Namespace */\n",
              "body .nt { color: #008000; font-weight: bold } /* Name.Tag */\n",
              "body .nv { color: #19177C } /* Name.Variable */\n",
              "body .ow { color: #AA22FF; font-weight: bold } /* Operator.Word */\n",
              "body .w { color: #bbbbbb } /* Text.Whitespace */\n",
              "body .mb { color: #666666 } /* Literal.Number.Bin */\n",
              "body .mf { color: #666666 } /* Literal.Number.Float */\n",
              "body .mh { color: #666666 } /* Literal.Number.Hex */\n",
              "body .mi { color: #666666 } /* Literal.Number.Integer */\n",
              "body .mo { color: #666666 } /* Literal.Number.Oct */\n",
              "body .sa { color: #BA2121 } /* Literal.String.Affix */\n",
              "body .sb { color: #BA2121 } /* Literal.String.Backtick */\n",
              "body .sc { color: #BA2121 } /* Literal.String.Char */\n",
              "body .dl { color: #BA2121 } /* Literal.String.Delimiter */\n",
              "body .sd { color: #BA2121; font-style: italic } /* Literal.String.Doc */\n",
              "body .s2 { color: #BA2121 } /* Literal.String.Double */\n",
              "body .se { color: #BB6622; font-weight: bold } /* Literal.String.Escape */\n",
              "body .sh { color: #BA2121 } /* Literal.String.Heredoc */\n",
              "body .si { color: #BB6688; font-weight: bold } /* Literal.String.Interpol */\n",
              "body .sx { color: #008000 } /* Literal.String.Other */\n",
              "body .sr { color: #BB6688 } /* Literal.String.Regex */\n",
              "body .s1 { color: #BA2121 } /* Literal.String.Single */\n",
              "body .ss { color: #19177C } /* Literal.String.Symbol */\n",
              "body .bp { color: #008000 } /* Name.Builtin.Pseudo */\n",
              "body .fm { color: #0000FF } /* Name.Function.Magic */\n",
              "body .vc { color: #19177C } /* Name.Variable.Class */\n",
              "body .vg { color: #19177C } /* Name.Variable.Global */\n",
              "body .vi { color: #19177C } /* Name.Variable.Instance */\n",
              "body .vm { color: #19177C } /* Name.Variable.Magic */\n",
              "body .il { color: #666666 } /* Literal.Number.Integer.Long */\n",
              "\n",
              "  </style>\n",
              "</head>\n",
              "<body>\n",
              "<h2></h2>\n",
              "\n",
              "<div class=\"highlight\"><pre><span></span><span class=\"k\">class</span> <span class=\"nc\">TrivialVacuumEnvironment</span><span class=\"p\">(</span><span class=\"n\">Environment</span><span class=\"p\">):</span>\n",
              "    <span class=\"sd\">&quot;&quot;&quot;This environment has two locations, A and B. Each can be Dirty</span>\n",
              "<span class=\"sd\">    or Clean. The agent perceives its location and the location&#39;s</span>\n",
              "<span class=\"sd\">    status. This serves as an example of how to implement a simple</span>\n",
              "<span class=\"sd\">    Environment.&quot;&quot;&quot;</span>\n",
              "\n",
              "    <span class=\"k\">def</span> <span class=\"fm\">__init__</span><span class=\"p\">(</span><span class=\"bp\">self</span><span class=\"p\">):</span>\n",
              "        <span class=\"nb\">super</span><span class=\"p\">()</span><span class=\"o\">.</span><span class=\"fm\">__init__</span><span class=\"p\">()</span>\n",
              "        <span class=\"bp\">self</span><span class=\"o\">.</span><span class=\"n\">status</span> <span class=\"o\">=</span> <span class=\"p\">{</span><span class=\"n\">loc_A</span><span class=\"p\">:</span> <span class=\"n\">random</span><span class=\"o\">.</span><span class=\"n\">choice</span><span class=\"p\">([</span><span class=\"s1\">&#39;Clean&#39;</span><span class=\"p\">,</span> <span class=\"s1\">&#39;Dirty&#39;</span><span class=\"p\">]),</span>\n",
              "                       <span class=\"n\">loc_B</span><span class=\"p\">:</span> <span class=\"n\">random</span><span class=\"o\">.</span><span class=\"n\">choice</span><span class=\"p\">([</span><span class=\"s1\">&#39;Clean&#39;</span><span class=\"p\">,</span> <span class=\"s1\">&#39;Dirty&#39;</span><span class=\"p\">])}</span>\n",
              "\n",
              "    <span class=\"k\">def</span> <span class=\"nf\">thing_classes</span><span class=\"p\">(</span><span class=\"bp\">self</span><span class=\"p\">):</span>\n",
              "        <span class=\"k\">return</span> <span class=\"p\">[</span><span class=\"n\">Wall</span><span class=\"p\">,</span> <span class=\"n\">Dirt</span><span class=\"p\">,</span> <span class=\"n\">ReflexVacuumAgent</span><span class=\"p\">,</span> <span class=\"n\">RandomVacuumAgent</span><span class=\"p\">,</span> <span class=\"n\">TableDrivenVacuumAgent</span><span class=\"p\">,</span> <span class=\"n\">ModelBasedVacuumAgent</span><span class=\"p\">]</span>\n",
              "\n",
              "    <span class=\"k\">def</span> <span class=\"nf\">percept</span><span class=\"p\">(</span><span class=\"bp\">self</span><span class=\"p\">,</span> <span class=\"n\">agent</span><span class=\"p\">):</span>\n",
              "        <span class=\"sd\">&quot;&quot;&quot;Returns the agent&#39;s location, and the location status (Dirty/Clean).&quot;&quot;&quot;</span>\n",
              "        <span class=\"k\">return</span> <span class=\"n\">agent</span><span class=\"o\">.</span><span class=\"n\">location</span><span class=\"p\">,</span> <span class=\"bp\">self</span><span class=\"o\">.</span><span class=\"n\">status</span><span class=\"p\">[</span><span class=\"n\">agent</span><span class=\"o\">.</span><span class=\"n\">location</span><span class=\"p\">]</span>\n",
              "\n",
              "    <span class=\"k\">def</span> <span class=\"nf\">execute_action</span><span class=\"p\">(</span><span class=\"bp\">self</span><span class=\"p\">,</span> <span class=\"n\">agent</span><span class=\"p\">,</span> <span class=\"n\">action</span><span class=\"p\">):</span>\n",
              "        <span class=\"sd\">&quot;&quot;&quot;Change agent&#39;s location and/or location&#39;s status; track performance.</span>\n",
              "<span class=\"sd\">        Score 10 for each dirt cleaned; -1 for each move.&quot;&quot;&quot;</span>\n",
              "        <span class=\"k\">if</span> <span class=\"n\">action</span> <span class=\"o\">==</span> <span class=\"s1\">&#39;Right&#39;</span><span class=\"p\">:</span>\n",
              "            <span class=\"n\">agent</span><span class=\"o\">.</span><span class=\"n\">location</span> <span class=\"o\">=</span> <span class=\"n\">loc_B</span>\n",
              "            <span class=\"n\">agent</span><span class=\"o\">.</span><span class=\"n\">performance</span> <span class=\"o\">-=</span> <span class=\"mi\">1</span>\n",
              "        <span class=\"k\">elif</span> <span class=\"n\">action</span> <span class=\"o\">==</span> <span class=\"s1\">&#39;Left&#39;</span><span class=\"p\">:</span>\n",
              "            <span class=\"n\">agent</span><span class=\"o\">.</span><span class=\"n\">location</span> <span class=\"o\">=</span> <span class=\"n\">loc_A</span>\n",
              "            <span class=\"n\">agent</span><span class=\"o\">.</span><span class=\"n\">performance</span> <span class=\"o\">-=</span> <span class=\"mi\">1</span>\n",
              "        <span class=\"k\">elif</span> <span class=\"n\">action</span> <span class=\"o\">==</span> <span class=\"s1\">&#39;Suck&#39;</span><span class=\"p\">:</span>\n",
              "            <span class=\"k\">if</span> <span class=\"bp\">self</span><span class=\"o\">.</span><span class=\"n\">status</span><span class=\"p\">[</span><span class=\"n\">agent</span><span class=\"o\">.</span><span class=\"n\">location</span><span class=\"p\">]</span> <span class=\"o\">==</span> <span class=\"s1\">&#39;Dirty&#39;</span><span class=\"p\">:</span>\n",
              "                <span class=\"n\">agent</span><span class=\"o\">.</span><span class=\"n\">performance</span> <span class=\"o\">+=</span> <span class=\"mi\">10</span>\n",
              "            <span class=\"bp\">self</span><span class=\"o\">.</span><span class=\"n\">status</span><span class=\"p\">[</span><span class=\"n\">agent</span><span class=\"o\">.</span><span class=\"n\">location</span><span class=\"p\">]</span> <span class=\"o\">=</span> <span class=\"s1\">&#39;Clean&#39;</span>\n",
              "\n",
              "    <span class=\"k\">def</span> <span class=\"nf\">default_location</span><span class=\"p\">(</span><span class=\"bp\">self</span><span class=\"p\">,</span> <span class=\"n\">thing</span><span class=\"p\">):</span>\n",
              "        <span class=\"sd\">&quot;&quot;&quot;Agents start in either location at random.&quot;&quot;&quot;</span>\n",
              "        <span class=\"k\">return</span> <span class=\"n\">random</span><span class=\"o\">.</span><span class=\"n\">choice</span><span class=\"p\">([</span><span class=\"n\">loc_A</span><span class=\"p\">,</span> <span class=\"n\">loc_B</span><span class=\"p\">])</span>\n",
              "</pre></div>\n",
              "</body>\n",
              "</html>\n"
            ],
            "text/plain": [
              "<IPython.core.display.HTML object>"
            ]
          },
          "metadata": {
            "tags": []
          }
        }
      ]
    },
    {
      "cell_type": "code",
      "metadata": {
        "id": "hcgp7Ztw3Wom",
        "cellView": "form"
      },
      "source": [
        "#@title\n",
        "\"\"\"\n",
        "Implement Agents and Environments. (Chapters 1-2)\n",
        "\n",
        "The class hierarchies are as follows:\n",
        "\n",
        "Thing ## A physical object that can exist in an environment\n",
        "    Agent\n",
        "        Wumpus\n",
        "    Dirt\n",
        "    Wall\n",
        "    ...\n",
        "\n",
        "Environment ## An environment holds objects, runs simulations\n",
        "    XYEnvironment\n",
        "        VacuumEnvironment\n",
        "        WumpusEnvironment\n",
        "\n",
        "An agent program is a callable instance, taking percepts and choosing actions\n",
        "    SimpleReflexAgentProgram\n",
        "    ...\n",
        "\n",
        "EnvGUI ## A window with a graphical representation of the Environment\n",
        "\n",
        "EnvToolbar ## contains buttons for controlling EnvGUI\n",
        "\n",
        "EnvCanvas ## Canvas to display the environment of an EnvGUI\n",
        "\"\"\"\n",
        "\n",
        "# TODO\n",
        "# Speed control in GUI does not have any effect -- fix it.\n",
        "\n",
        "from utils import distance_squared, turn_heading\n",
        "from statistics import mean\n",
        "from ipythonblocks import BlockGrid\n",
        "from IPython.display import HTML, display, clear_output\n",
        "from time import sleep\n",
        "\n",
        "import random\n",
        "import copy\n",
        "import collections\n",
        "import numbers\n",
        "\n",
        "\n",
        "# ______________________________________________________________________________\n",
        "\n",
        "\n",
        "class Thing:\n",
        "    \"\"\"This represents any physical object that can appear in an Environment.\n",
        "    You subclass Thing to get the things you want. Each thing can have a\n",
        "    .__name__  slot (used for output only).\"\"\"\n",
        "\n",
        "    def __repr__(self):\n",
        "        return '<{}>'.format(getattr(self, '__name__', self.__class__.__name__))\n",
        "\n",
        "    def is_alive(self):\n",
        "        \"\"\"Things that are 'alive' should return true.\"\"\"\n",
        "        return hasattr(self, 'alive') and self.alive\n",
        "\n",
        "    def show_state(self):\n",
        "        \"\"\"Display the agent's internal state. Subclasses should override.\"\"\"\n",
        "        print(\"I don't know how to show_state.\")\n",
        "\n",
        "    def display(self, canvas, x, y, width, height):\n",
        "        \"\"\"Display an image of this Thing on the canvas.\"\"\"\n",
        "        # Do we need this?\n",
        "        pass\n",
        "\n",
        "\n",
        "class Agent(Thing):\n",
        "    \"\"\"An Agent is a subclass of Thing with one required instance attribute \n",
        "    (aka slot), .program, which should hold a function that takes one argument,\n",
        "    the percept, and returns an action. (What counts as a percept or action \n",
        "    will depend on the specific environment in which the agent exists.)\n",
        "    Note that 'program' is a slot, not a method. If it were a method, then the\n",
        "    program could 'cheat' and look at aspects of the agent. It's not supposed\n",
        "    to do that: the program can only look at the percepts. An agent program\n",
        "    that needs a model of the world (and of the agent itself) will have to\n",
        "    build and maintain its own model. There is an optional slot, .performance,\n",
        "    which is a number giving the performance measure of the agent in its\n",
        "    environment.\"\"\"\n",
        "\n",
        "    def __init__(self, program=None):\n",
        "        self.alive = True\n",
        "        self.bump = False\n",
        "        self.holding = []\n",
        "        self.performance = 0\n",
        "        if program is None or not isinstance(program, collections.abc.Callable):\n",
        "            print(\"Can't find a valid program for {}, falling back to default.\".format(self.__class__.__name__))\n",
        "\n",
        "            def program(percept):\n",
        "                return eval(input('Percept={}; action? '.format(percept)))\n",
        "\n",
        "        self.program = program\n",
        "\n",
        "    def can_grab(self, thing):\n",
        "        \"\"\"Return True if this agent can grab this thing.\n",
        "        Override for appropriate subclasses of Agent and Thing.\"\"\"\n",
        "        return False\n",
        "\n",
        "\n",
        "def TraceAgent(agent):\n",
        "    \"\"\"Wrap the agent's program to print its input and output. This will let\n",
        "    you see what the agent is doing in the environment.\"\"\"\n",
        "    old_program = agent.program\n",
        "\n",
        "    def new_program(percept):\n",
        "        action = old_program(percept)\n",
        "        print('{} perceives {} and does {}'.format(agent, percept, action))\n",
        "        return action\n",
        "\n",
        "    agent.program = new_program\n",
        "    return agent\n",
        "\n",
        "\n",
        "# ______________________________________________________________________________\n",
        "\n",
        "\n",
        "def TableDrivenAgentProgram(table):\n",
        "    \"\"\"\n",
        "    [Figure 2.7]\n",
        "    This agent selects an action based on the percept sequence.\n",
        "    It is practical only for tiny domains.\n",
        "    To customize it, provide as table a dictionary of all\n",
        "    {percept_sequence:action} pairs.\n",
        "    \"\"\"\n",
        "    percepts = []\n",
        "\n",
        "    def program(percept):\n",
        "        percepts.append(percept)\n",
        "        action = table.get(tuple(percepts))\n",
        "        return action\n",
        "\n",
        "    return program\n",
        "\n",
        "\n",
        "def RandomAgentProgram(actions):\n",
        "    \"\"\"An agent that chooses an action at random, ignoring all percepts.\n",
        "    >>> list = ['Right', 'Left', 'Suck', 'NoOp']\n",
        "    >>> program = RandomAgentProgram(list)\n",
        "    >>> agent = Agent(program)\n",
        "    >>> environment = TrivialVacuumEnvironment()\n",
        "    >>> environment.add_thing(agent)\n",
        "    >>> environment.run()\n",
        "    >>> environment.status == {(1, 0): 'Clean' , (0, 0): 'Clean'}\n",
        "    True\n",
        "    \"\"\"\n",
        "    return lambda percept: random.choice(actions)\n",
        "\n",
        "\n",
        "# ______________________________________________________________________________\n",
        "\n",
        "\n",
        "def SimpleReflexAgentProgram(rules, interpret_input):\n",
        "    \"\"\"\n",
        "    [Figure 2.10]\n",
        "    This agent takes action based solely on the percept.\n",
        "    \"\"\"\n",
        "\n",
        "    def program(percept):\n",
        "        state = interpret_input(percept)\n",
        "        rule = rule_match(state, rules)\n",
        "        action = rule.action\n",
        "        return action\n",
        "\n",
        "    return program\n",
        "\n",
        "\n",
        "def ModelBasedReflexAgentProgram(rules, update_state, model):\n",
        "    \"\"\"\n",
        "    [Figure 2.12]\n",
        "    This agent takes action based on the percept and state.\n",
        "    \"\"\"\n",
        "\n",
        "    def program(percept):\n",
        "        program.state = update_state(program.state, program.action, percept, model)\n",
        "        rule = rule_match(program.state, rules)\n",
        "        action = rule.action\n",
        "        return action\n",
        "\n",
        "    program.state = program.action = None\n",
        "    return program\n",
        "\n",
        "\n",
        "def rule_match(state, rules):\n",
        "    \"\"\"Find the first rule that matches state.\"\"\"\n",
        "    for rule in rules:\n",
        "        if rule.matches(state):\n",
        "            return rule\n",
        "\n",
        "\n",
        "# ______________________________________________________________________________\n",
        "\n",
        "\n",
        "loc_A, loc_B = (0, 0), (1, 0)  # The two locations for the Vacuum world\n",
        "\n",
        "\n",
        "def RandomVacuumAgent():\n",
        "    \"\"\"Randomly choose one of the actions from the vacuum environment.\n",
        "    >>> agent = RandomVacuumAgent()\n",
        "    >>> environment = TrivialVacuumEnvironment()\n",
        "    >>> environment.add_thing(agent)\n",
        "    >>> environment.run()\n",
        "    >>> environment.status == {(1,0):'Clean' , (0,0) : 'Clean'}\n",
        "    True\n",
        "    \"\"\"\n",
        "    return Agent(RandomAgentProgram(['Right', 'Left', 'Suck', 'NoOp']))\n",
        "\n",
        "\n",
        "def TableDrivenVacuumAgent():\n",
        "    \"\"\"Tabular approach towards vacuum world as mentioned in [Figure 2.3]\n",
        "    >>> agent = TableDrivenVacuumAgent()\n",
        "    >>> environment = TrivialVacuumEnvironment()\n",
        "    >>> environment.add_thing(agent)\n",
        "    >>> environment.run()\n",
        "    >>> environment.status == {(1,0):'Clean' , (0,0) : 'Clean'}\n",
        "    True\n",
        "    \"\"\"\n",
        "    table = {((loc_A, 'Clean'),): 'Right',\n",
        "             ((loc_A, 'Dirty'),): 'Suck',\n",
        "             ((loc_B, 'Clean'),): 'Left',\n",
        "             ((loc_B, 'Dirty'),): 'Suck',\n",
        "             ((loc_A, 'Dirty'), (loc_A, 'Clean')): 'Right',\n",
        "             ((loc_A, 'Clean'), (loc_B, 'Dirty')): 'Suck',\n",
        "             ((loc_B, 'Clean'), (loc_A, 'Dirty')): 'Suck',\n",
        "             ((loc_B, 'Dirty'), (loc_B, 'Clean')): 'Left',\n",
        "             ((loc_A, 'Dirty'), (loc_A, 'Clean'), (loc_B, 'Dirty')): 'Suck',\n",
        "             ((loc_B, 'Dirty'), (loc_B, 'Clean'), (loc_A, 'Dirty')): 'Suck'}\n",
        "    return Agent(TableDrivenAgentProgram(table))\n",
        "\n",
        "\n",
        "def ReflexVacuumAgent():\n",
        "    \"\"\"\n",
        "    [Figure 2.8]\n",
        "    A reflex agent for the two-state vacuum environment.\n",
        "    >>> agent = ReflexVacuumAgent()\n",
        "    >>> environment = TrivialVacuumEnvironment()\n",
        "    >>> environment.add_thing(agent)\n",
        "    >>> environment.run()\n",
        "    >>> environment.status == {(1,0):'Clean' , (0,0) : 'Clean'}\n",
        "    True\n",
        "    \"\"\"\n",
        "\n",
        "    def program(percept):\n",
        "        location, status = percept\n",
        "        if status == 'Dirty':\n",
        "            return 'Suck'\n",
        "        elif location == loc_A:\n",
        "            return 'Right'\n",
        "        elif location == loc_B:\n",
        "            return 'Left'\n",
        "\n",
        "    return Agent(program)\n",
        "\n",
        "\n",
        "def ModelBasedVacuumAgent():\n",
        "    \"\"\"An agent that keeps track of what locations are clean or dirty.\n",
        "    >>> agent = ModelBasedVacuumAgent()\n",
        "    >>> environment = TrivialVacuumEnvironment()\n",
        "    >>> environment.add_thing(agent)\n",
        "    >>> environment.run()\n",
        "    >>> environment.status == {(1,0):'Clean' , (0,0) : 'Clean'}\n",
        "    True\n",
        "    \"\"\"\n",
        "    model = {loc_A: None, loc_B: None}\n",
        "\n",
        "    def program(percept):\n",
        "        \"\"\"Same as ReflexVacuumAgent, except if everything is clean, do NoOp.\"\"\"\n",
        "        location, status = percept\n",
        "        model[location] = status  # Update the model here\n",
        "        if model[loc_A] == model[loc_B] == 'Clean':\n",
        "            return 'NoOp'\n",
        "        elif status == 'Dirty':\n",
        "            return 'Suck'\n",
        "        elif location == loc_A:\n",
        "            return 'Right'\n",
        "        elif location == loc_B:\n",
        "            return 'Left'\n",
        "\n",
        "    return Agent(program)\n",
        "\n",
        "\n",
        "# ______________________________________________________________________________\n",
        "\n",
        "\n",
        "class Environment:\n",
        "    \"\"\"Abstract class representing an Environment. 'Real' Environment classes\n",
        "    inherit from this. Your Environment will typically need to implement:\n",
        "        percept:           Define the percept that an agent sees.\n",
        "        execute_action:    Define the effects of executing an action.\n",
        "                           Also update the agent.performance slot.\n",
        "    The environment keeps a list of .things and .agents (which is a subset\n",
        "    of .things). Each agent has a .performance slot, initialized to 0.\n",
        "    Each thing has a .location slot, even though some environments may not\n",
        "    need this.\"\"\"\n",
        "\n",
        "    def __init__(self):\n",
        "        self.things = []\n",
        "        self.agents = []\n",
        "\n",
        "    def thing_classes(self):\n",
        "        return []  # List of classes that can go into environment\n",
        "\n",
        "    def percept(self, agent):\n",
        "        \"\"\"Return the percept that the agent sees at this point. (Implement this.)\"\"\"\n",
        "        raise NotImplementedError\n",
        "\n",
        "    def execute_action(self, agent, action):\n",
        "        \"\"\"Change the world to reflect this action. (Implement this.)\"\"\"\n",
        "        raise NotImplementedError\n",
        "\n",
        "    def default_location(self, thing):\n",
        "        \"\"\"Default location to place a new thing with unspecified location.\"\"\"\n",
        "        return None\n",
        "\n",
        "    def exogenous_change(self):\n",
        "        \"\"\"If there is spontaneous change in the world, override this.\"\"\"\n",
        "        pass\n",
        "\n",
        "    def is_done(self):\n",
        "        \"\"\"By default, we're done when we can't find a live agent.\"\"\"\n",
        "        return not any(agent.is_alive() for agent in self.agents)\n",
        "\n",
        "    def step(self):\n",
        "        \"\"\"Run the environment for one time step. If the\n",
        "        actions and exogenous changes are independent, this method will\n",
        "        do. If there are interactions between them, you'll need to\n",
        "        override this method.\"\"\"\n",
        "        if not self.is_done():\n",
        "            actions = []\n",
        "            for agent in self.agents:\n",
        "                if agent.alive:\n",
        "                    actions.append(agent.program(self.percept(agent)))\n",
        "                else:\n",
        "                    actions.append(\"\")\n",
        "            for (agent, action) in zip(self.agents, actions):\n",
        "                self.execute_action(agent, action)\n",
        "            self.exogenous_change()\n",
        "\n",
        "    def run(self, steps=1000):\n",
        "        \"\"\"Run the Environment for given number of time steps.\"\"\"\n",
        "        for step in range(steps):\n",
        "            if self.is_done():\n",
        "                return\n",
        "            self.step()\n",
        "\n",
        "    def list_things_at(self, location, tclass=Thing):\n",
        "        \"\"\"Return all things exactly at a given location.\"\"\"\n",
        "        if isinstance(location, numbers.Number):\n",
        "            return [thing for thing in self.things\n",
        "                    if thing.location == location and isinstance(thing, tclass)]\n",
        "        return [thing for thing in self.things\n",
        "                if all(x == y for x, y in zip(thing.location, location)) and isinstance(thing, tclass)]\n",
        "\n",
        "    def some_things_at(self, location, tclass=Thing):\n",
        "        \"\"\"Return true if at least one of the things at location\n",
        "        is an instance of class tclass (or a subclass).\"\"\"\n",
        "        return self.list_things_at(location, tclass) != []\n",
        "\n",
        "    def add_thing(self, thing, location=None):\n",
        "        \"\"\"Add a thing to the environment, setting its location. For\n",
        "        convenience, if thing is an agent program we make a new agent\n",
        "        for it. (Shouldn't need to override this.)\"\"\"\n",
        "        if not isinstance(thing, Thing):\n",
        "            thing = Agent(thing)\n",
        "        if thing in self.things:\n",
        "            print(\"Can't add the same thing twice\")\n",
        "        else:\n",
        "            thing.location = location if location is not None else self.default_location(thing)\n",
        "            self.things.append(thing)\n",
        "            if isinstance(thing, Agent):\n",
        "                thing.performance = 0\n",
        "                self.agents.append(thing)\n",
        "\n",
        "    def delete_thing(self, thing):\n",
        "        \"\"\"Remove a thing from the environment.\"\"\"\n",
        "        try:\n",
        "            self.things.remove(thing)\n",
        "        except ValueError as e:\n",
        "            print(e)\n",
        "            print(\"  in Environment delete_thing\")\n",
        "            print(\"  Thing to be removed: {} at {}\".format(thing, thing.location))\n",
        "            print(\"  from list: {}\".format([(thing, thing.location) for thing in self.things]))\n",
        "        if thing in self.agents:\n",
        "            self.agents.remove(thing)\n",
        "\n",
        "\n",
        "class Direction:\n",
        "    \"\"\"A direction class for agents that want to move in a 2D plane\n",
        "        Usage:\n",
        "            d = Direction(\"down\")\n",
        "            To change directions:\n",
        "            d = d + \"right\" or d = d + Direction.R #Both do the same thing\n",
        "            Note that the argument to __add__ must be a string and not a Direction object.\n",
        "            Also, it (the argument) can only be right or left.\"\"\"\n",
        "\n",
        "    R = \"right\"\n",
        "    L = \"left\"\n",
        "    U = \"up\"\n",
        "    D = \"down\"\n",
        "\n",
        "    def __init__(self, direction):\n",
        "        self.direction = direction\n",
        "\n",
        "    def __add__(self, heading):\n",
        "        \"\"\"\n",
        "        >>> d = Direction('right')\n",
        "        >>> l1 = d.__add__(Direction.L)\n",
        "        >>> l2 = d.__add__(Direction.R)\n",
        "        >>> l1.direction\n",
        "        'up'\n",
        "        >>> l2.direction\n",
        "        'down'\n",
        "        >>> d = Direction('down')\n",
        "        >>> l1 = d.__add__('right')\n",
        "        >>> l2 = d.__add__('left')\n",
        "        >>> l1.direction == Direction.L\n",
        "        True\n",
        "        >>> l2.direction == Direction.R\n",
        "        True\n",
        "        \"\"\"\n",
        "        if self.direction == self.R:\n",
        "            return {\n",
        "                self.R: Direction(self.D),\n",
        "                self.L: Direction(self.U),\n",
        "            }.get(heading, None)\n",
        "        elif self.direction == self.L:\n",
        "            return {\n",
        "                self.R: Direction(self.U),\n",
        "                self.L: Direction(self.D),\n",
        "            }.get(heading, None)\n",
        "        elif self.direction == self.U:\n",
        "            return {\n",
        "                self.R: Direction(self.R),\n",
        "                self.L: Direction(self.L),\n",
        "            }.get(heading, None)\n",
        "        elif self.direction == self.D:\n",
        "            return {\n",
        "                self.R: Direction(self.L),\n",
        "                self.L: Direction(self.R),\n",
        "            }.get(heading, None)\n",
        "\n",
        "    def move_forward(self, from_location):\n",
        "        \"\"\"\n",
        "        >>> d = Direction('up')\n",
        "        >>> l1 = d.move_forward((0, 0))\n",
        "        >>> l1\n",
        "        (0, -1)\n",
        "        >>> d = Direction(Direction.R)\n",
        "        >>> l1 = d.move_forward((0, 0))\n",
        "        >>> l1\n",
        "        (1, 0)\n",
        "        \"\"\"\n",
        "        # get the iterable class to return\n",
        "        iclass = from_location.__class__\n",
        "        x, y = from_location\n",
        "        if self.direction == self.R:\n",
        "            return iclass((x + 1, y))\n",
        "        elif self.direction == self.L:\n",
        "            return iclass((x - 1, y))\n",
        "        elif self.direction == self.U:\n",
        "            return iclass((x, y - 1))\n",
        "        elif self.direction == self.D:\n",
        "            return iclass((x, y + 1))\n",
        "\n",
        "\n",
        "class XYEnvironment(Environment):\n",
        "    \"\"\"This class is for environments on a 2D plane, with locations\n",
        "    labelled by (x, y) points, either discrete or continuous.\n",
        "\n",
        "    Agents perceive things within a radius. Each agent in the\n",
        "    environment has a .location slot which should be a location such\n",
        "    as (0, 1), and a .holding slot, which should be a list of things\n",
        "    that are held.\"\"\"\n",
        "\n",
        "    def __init__(self, width=10, height=10):\n",
        "        super().__init__()\n",
        "\n",
        "        self.width = width\n",
        "        self.height = height\n",
        "        self.observers = []\n",
        "        # Sets iteration start and end (no walls).\n",
        "        self.x_start, self.y_start = (0, 0)\n",
        "        self.x_end, self.y_end = (self.width, self.height)\n",
        "\n",
        "    perceptible_distance = 1\n",
        "\n",
        "    def things_near(self, location, radius=None):\n",
        "        \"\"\"Return all things within radius of location.\"\"\"\n",
        "        if radius is None:\n",
        "            radius = self.perceptible_distance\n",
        "        radius2 = radius * radius\n",
        "        return [(thing, radius2 - distance_squared(location, thing.location))\n",
        "                for thing in self.things if distance_squared(\n",
        "                location, thing.location) <= radius2]\n",
        "\n",
        "    def percept(self, agent):\n",
        "        \"\"\"By default, agent perceives things within a default radius.\"\"\"\n",
        "        return self.things_near(agent.location)\n",
        "\n",
        "    def execute_action(self, agent, action):\n",
        "        agent.bump = False\n",
        "        if action == 'TurnRight':\n",
        "            agent.direction += Direction.R\n",
        "        elif action == 'TurnLeft':\n",
        "            agent.direction += Direction.L\n",
        "        elif action == 'Forward':\n",
        "            agent.bump = self.move_to(agent, agent.direction.move_forward(agent.location))\n",
        "        elif action == 'Grab':\n",
        "            things = [thing for thing in self.list_things_at(agent.location) if agent.can_grab(thing)]\n",
        "            if things:    \n",
        "                agent.holding.append(things[0])\n",
        "                print(\"Grabbing \", things[0].__class__.__name__)\n",
        "                self.delete_thing(things[0])\n",
        "        elif action == 'Release':\n",
        "            if agent.holding:\n",
        "                dropped = agent.holding.pop()\n",
        "                print(\"Dropping \", dropped.__class__.__name__)\n",
        "                self.add_thing(dropped, location=agent.location)\n",
        "\n",
        "    def default_location(self, thing):\n",
        "        location = self.random_location_inbounds()\n",
        "        while self.some_things_at(location, Obstacle):\n",
        "            # we will find a random location with no obstacles\n",
        "            location = self.random_location_inbounds()\n",
        "        return location\n",
        "\n",
        "    def move_to(self, thing, destination):\n",
        "        \"\"\"Move a thing to a new location. Returns True on success or False if there is an Obstacle.\n",
        "        If thing is holding anything, they move with him.\"\"\"\n",
        "        thing.bump = self.some_things_at(destination, Obstacle)\n",
        "        if not thing.bump:\n",
        "            thing.location = destination\n",
        "            for o in self.observers:\n",
        "                o.thing_moved(thing)\n",
        "            for t in thing.holding:\n",
        "                self.delete_thing(t)\n",
        "                self.add_thing(t, destination)\n",
        "                t.location = destination\n",
        "        return thing.bump\n",
        "\n",
        "    def add_thing(self, thing, location=None, exclude_duplicate_class_items=False):\n",
        "        \"\"\"Add things to the world. If (exclude_duplicate_class_items) then the item won't be\n",
        "        added if the location has at least one item of the same class.\"\"\"\n",
        "        if location is None:\n",
        "            super().add_thing(thing)\n",
        "        elif self.is_inbounds(location):\n",
        "            if (exclude_duplicate_class_items and\n",
        "                    any(isinstance(t, thing.__class__) for t in self.list_things_at(location))):\n",
        "                return\n",
        "            super().add_thing(thing, location)\n",
        "\n",
        "    def is_inbounds(self, location):\n",
        "        \"\"\"Checks to make sure that the location is inbounds (within walls if we have walls)\"\"\"\n",
        "        x, y = location\n",
        "        return not (x < self.x_start or x > self.x_end or y < self.y_start or y > self.y_end)\n",
        "\n",
        "    def random_location_inbounds(self, exclude=None):\n",
        "        \"\"\"Returns a random location that is inbounds (within walls if we have walls)\"\"\"\n",
        "        location = (random.randint(self.x_start, self.x_end),\n",
        "                    random.randint(self.y_start, self.y_end))\n",
        "        if exclude is not None:\n",
        "            while location == exclude:\n",
        "                location = (random.randint(self.x_start, self.x_end),\n",
        "                            random.randint(self.y_start, self.y_end))\n",
        "        return location\n",
        "\n",
        "    def delete_thing(self, thing):\n",
        "        \"\"\"Deletes thing, and everything it is holding (if thing is an agent)\"\"\"\n",
        "        if isinstance(thing, Agent):\n",
        "            del thing.holding\n",
        "\n",
        "        super().delete_thing(thing)\n",
        "        for obs in self.observers:\n",
        "            obs.thing_deleted(thing)\n",
        "\n",
        "    def add_walls(self):\n",
        "        \"\"\"Put walls around the entire perimeter of the grid.\"\"\"\n",
        "        for x in range(self.width):\n",
        "            self.add_thing(Wall(), (x, 0))\n",
        "            self.add_thing(Wall(), (x, self.height - 1))\n",
        "        for y in range(1, self.height - 1):\n",
        "            self.add_thing(Wall(), (0, y))\n",
        "            self.add_thing(Wall(), (self.width - 1, y))\n",
        "\n",
        "        # Updates iteration start and end (with walls).\n",
        "        self.x_start, self.y_start = (1, 1)\n",
        "        self.x_end, self.y_end = (self.width - 1, self.height - 1)\n",
        "\n",
        "    def add_observer(self, observer):\n",
        "        \"\"\"Adds an observer to the list of observers.\n",
        "        An observer is typically an EnvGUI.\n",
        "\n",
        "        Each observer is notified of changes in move_to and add_thing,\n",
        "        by calling the observer's methods thing_moved(thing)\n",
        "        and thing_added(thing, loc).\"\"\"\n",
        "        self.observers.append(observer)\n",
        "\n",
        "    def turn_heading(self, heading, inc):\n",
        "        \"\"\"Return the heading to the left (inc=+1) or right (inc=-1) of heading.\"\"\"\n",
        "        return turn_heading(heading, inc)\n",
        "\n",
        "\n",
        "class Obstacle(Thing):\n",
        "    \"\"\"Something that can cause a bump, preventing an agent from\n",
        "    moving into the same square it's in.\"\"\"\n",
        "    pass\n",
        "\n",
        "\n",
        "class Wall(Obstacle):\n",
        "    pass\n",
        "\n",
        "\n",
        "# ______________________________________________________________________________\n",
        "\n",
        "\n",
        "class GraphicEnvironment(XYEnvironment):\n",
        "    def __init__(self, width=10, height=10, boundary=True, color={}, display=False):\n",
        "        \"\"\"Define all the usual XYEnvironment characteristics,\n",
        "        but initialise a BlockGrid for GUI too.\"\"\"\n",
        "        super().__init__(width, height)\n",
        "        self.grid = BlockGrid(width, height, fill=(200, 200, 200))\n",
        "        if display:\n",
        "            self.grid.show()\n",
        "            self.visible = True\n",
        "        else:\n",
        "            self.visible = False\n",
        "        self.bounded = boundary\n",
        "        self.colors = color\n",
        "\n",
        "    def get_world(self):\n",
        "        \"\"\"Returns all the items in the world in a format\n",
        "        understandable by the ipythonblocks BlockGrid.\"\"\"\n",
        "        result = []\n",
        "        x_start, y_start = (0, 0)\n",
        "        x_end, y_end = self.width, self.height\n",
        "        for x in range(x_start, x_end):\n",
        "            row = []\n",
        "            for y in range(y_start, y_end):\n",
        "                row.append(self.list_things_at((x, y)))\n",
        "            result.append(row)\n",
        "        return result\n",
        "\n",
        "    \"\"\"\n",
        "    def run(self, steps=1000, delay=1):\n",
        "        \"\" \"Run the Environment for given number of time steps,\n",
        "        but update the GUI too.\" \"\"\n",
        "        for step in range(steps):\n",
        "            sleep(delay)\n",
        "            if self.visible:\n",
        "                self.reveal()\n",
        "            if self.is_done():\n",
        "                if self.visible:\n",
        "                    self.reveal()\n",
        "                return\n",
        "            self.step()\n",
        "        if self.visible:\n",
        "            self.reveal()\n",
        "    \"\"\"\n",
        "\n",
        "    def run(self, steps=1000, delay=1):\n",
        "        \"\"\"Run the Environment for given number of time steps,\n",
        "        but update the GUI too.\"\"\"\n",
        "        for step in range(steps):\n",
        "            self.update(delay)\n",
        "            if self.is_done():\n",
        "                break\n",
        "            self.step()\n",
        "        self.update(delay)\n",
        "\n",
        "    def update(self, delay=1):\n",
        "        sleep(delay)\n",
        "        self.reveal()\n",
        "\n",
        "    def reveal(self):\n",
        "        \"\"\"Display the BlockGrid for this world - the last thing to be added\n",
        "        at a location defines the location color.\"\"\"\n",
        "        self.draw_world()\n",
        "        # wait for the world to update and\n",
        "        # apply changes to the same grid instead\n",
        "        # of making a new one.\n",
        "        clear_output(1)\n",
        "        self.grid.show()\n",
        "        self.visible = True\n",
        "\n",
        "    def draw_world(self):\n",
        "        self.grid[:] = (200, 200, 200)\n",
        "        world = self.get_world()\n",
        "        for x in range(0, len(world)):\n",
        "            for y in range(0, len(world[x])):\n",
        "                if len(world[x][y]):\n",
        "                    self.grid[y, x] = self.colors[world[x][y][-1].__class__.__name__]\n",
        "\n",
        "    def conceal(self):\n",
        "        \"\"\"Hide the BlockGrid for this world\"\"\"\n",
        "        self.visible = False\n",
        "        display(HTML(''))\n",
        "\n",
        "\n",
        "# ______________________________________________________________________________\n",
        "# Continuous environment\n",
        "\n",
        "class ContinuousWorld(Environment):\n",
        "    \"\"\"Model for Continuous World\"\"\"\n",
        "\n",
        "    def __init__(self, width=10, height=10):\n",
        "        super().__init__()\n",
        "        self.width = width\n",
        "        self.height = height\n",
        "\n",
        "    def add_obstacle(self, coordinates):\n",
        "        self.things.append(PolygonObstacle(coordinates))\n",
        "\n",
        "\n",
        "class PolygonObstacle(Obstacle):\n",
        "\n",
        "    def __init__(self, coordinates):\n",
        "        \"\"\"Coordinates is a list of tuples.\"\"\"\n",
        "        super().__init__()\n",
        "        self.coordinates = coordinates\n",
        "\n",
        "\n",
        "# ______________________________________________________________________________\n",
        "# Vacuum environment\n",
        "\n",
        "\n",
        "class Dirt(Thing):\n",
        "    pass\n",
        "\n",
        "\n",
        "class VacuumEnvironment(XYEnvironment):\n",
        "    \"\"\"The environment of [Ex. 2.12]. Agent perceives dirty or clean,\n",
        "    and bump (into obstacle) or not; 2D discrete world of unknown size;\n",
        "    performance measure is 100 for each dirt cleaned, and -1 for\n",
        "    each turn taken.\"\"\"\n",
        "\n",
        "    def __init__(self, width=10, height=10):\n",
        "        super().__init__(width, height)\n",
        "        self.add_walls()\n",
        "\n",
        "    def thing_classes(self):\n",
        "        return [Wall, Dirt, ReflexVacuumAgent, RandomVacuumAgent,\n",
        "                TableDrivenVacuumAgent, ModelBasedVacuumAgent]\n",
        "\n",
        "    def percept(self, agent):\n",
        "        \"\"\"The percept is a tuple of ('Dirty' or 'Clean', 'Bump' or 'None').\n",
        "        Unlike the TrivialVacuumEnvironment, location is NOT perceived.\"\"\"\n",
        "        status = ('Dirty' if self.some_things_at(\n",
        "            agent.location, Dirt) else 'Clean')\n",
        "        bump = ('Bump' if agent.bump else 'None')\n",
        "        return status, bump\n",
        "\n",
        "    def execute_action(self, agent, action):\n",
        "        agent.bump = False\n",
        "        if action == 'Suck':\n",
        "            dirt_list = self.list_things_at(agent.location, Dirt)\n",
        "            if dirt_list != []:\n",
        "                dirt = dirt_list[0]\n",
        "                agent.performance += 100\n",
        "                self.delete_thing(dirt)\n",
        "        else:\n",
        "            super().execute_action(agent, action)\n",
        "\n",
        "        if action != 'NoOp':\n",
        "            agent.performance -= 1\n",
        "\n",
        "\n",
        "class TrivialVacuumEnvironment(Environment):\n",
        "    \"\"\"This environment has two locations, A and B. Each can be Dirty\n",
        "    or Clean. The agent perceives its location and the location's\n",
        "    status. This serves as an example of how to implement a simple\n",
        "    Environment.\"\"\"\n",
        "\n",
        "    def __init__(self):\n",
        "        super().__init__()\n",
        "        self.status = {loc_A: random.choice(['Clean', 'Dirty']),\n",
        "                       loc_B: random.choice(['Clean', 'Dirty'])}\n",
        "\n",
        "    def thing_classes(self):\n",
        "        return [Wall, Dirt, ReflexVacuumAgent, RandomVacuumAgent, TableDrivenVacuumAgent, ModelBasedVacuumAgent]\n",
        "\n",
        "    def percept(self, agent):\n",
        "        \"\"\"Returns the agent's location, and the location status (Dirty/Clean).\"\"\"\n",
        "        return agent.location, self.status[agent.location]\n",
        "\n",
        "    def execute_action(self, agent, action):\n",
        "        \"\"\"Change agent's location and/or location's status; track performance.\n",
        "        Score 10 for each dirt cleaned; -1 for each move.\"\"\"\n",
        "        if action == 'Right':\n",
        "            agent.location = loc_B\n",
        "            agent.performance -= 1\n",
        "        elif action == 'Left':\n",
        "            agent.location = loc_A\n",
        "            agent.performance -= 1\n",
        "        elif action == 'Suck':\n",
        "            if self.status[agent.location] == 'Dirty':\n",
        "                agent.performance += 10\n",
        "            self.status[agent.location] = 'Clean'\n",
        "\n",
        "    def default_location(self, thing):\n",
        "        \"\"\"Agents start in either location at random.\"\"\"\n",
        "        return random.choice([loc_A, loc_B])\n",
        "\n",
        "\n",
        "# ______________________________________________________________________________\n",
        "# The Wumpus World\n",
        "\n",
        "\n",
        "class Gold(Thing):\n",
        "\n",
        "    def __eq__(self, rhs):\n",
        "        \"\"\"All Gold are equal\"\"\"\n",
        "        return rhs.__class__ == Gold\n",
        "\n",
        "    pass\n",
        "\n",
        "\n",
        "class Bump(Thing):\n",
        "    pass\n",
        "\n",
        "\n",
        "class Glitter(Thing):\n",
        "    pass\n",
        "\n",
        "\n",
        "class Pit(Thing):\n",
        "    pass\n",
        "\n",
        "\n",
        "class Breeze(Thing):\n",
        "    pass\n",
        "\n",
        "\n",
        "class Arrow(Thing):\n",
        "    pass\n",
        "\n",
        "\n",
        "class Scream(Thing):\n",
        "    pass\n",
        "\n",
        "\n",
        "class Wumpus(Agent):\n",
        "    screamed = False\n",
        "    pass\n",
        "\n",
        "\n",
        "class Stench(Thing):\n",
        "    pass\n",
        "\n",
        "\n",
        "class Explorer(Agent):\n",
        "    holding = []\n",
        "    has_arrow = True\n",
        "    killed_by = \"\"\n",
        "    direction = Direction(\"right\")\n",
        "\n",
        "    def can_grab(self, thing):\n",
        "        \"\"\"Explorer can only grab gold\"\"\"\n",
        "        return thing.__class__ == Gold\n",
        "\n",
        "\n",
        "class WumpusEnvironment(XYEnvironment):\n",
        "    pit_probability = 0.2  # Probability to spawn a pit in a location. (From Chapter 7.2)\n",
        "\n",
        "    # Room should be 4x4 grid of rooms. The extra 2 for walls\n",
        "\n",
        "    def __init__(self, agent_program, width=6, height=6):\n",
        "        super().__init__(width, height)\n",
        "        self.init_world(agent_program)\n",
        "\n",
        "    def init_world(self, program):\n",
        "        \"\"\"Spawn items in the world based on probabilities from the book\"\"\"\n",
        "\n",
        "        \"WALLS\"\n",
        "        self.add_walls()\n",
        "\n",
        "        \"PITS\"\n",
        "        for x in range(self.x_start, self.x_end):\n",
        "            for y in range(self.y_start, self.y_end):\n",
        "                if random.random() < self.pit_probability:\n",
        "                    self.add_thing(Pit(), (x, y), True)\n",
        "                    self.add_thing(Breeze(), (x - 1, y), True)\n",
        "                    self.add_thing(Breeze(), (x, y - 1), True)\n",
        "                    self.add_thing(Breeze(), (x + 1, y), True)\n",
        "                    self.add_thing(Breeze(), (x, y + 1), True)\n",
        "\n",
        "        \"WUMPUS\"\n",
        "        w_x, w_y = self.random_location_inbounds(exclude=(1, 1))\n",
        "        self.add_thing(Wumpus(lambda x: \"\"), (w_x, w_y), True)\n",
        "        self.add_thing(Stench(), (w_x - 1, w_y), True)\n",
        "        self.add_thing(Stench(), (w_x + 1, w_y), True)\n",
        "        self.add_thing(Stench(), (w_x, w_y - 1), True)\n",
        "        self.add_thing(Stench(), (w_x, w_y + 1), True)\n",
        "\n",
        "        \"GOLD\"\n",
        "        self.add_thing(Gold(), self.random_location_inbounds(exclude=(1, 1)), True)\n",
        "\n",
        "        \"AGENT\"\n",
        "        self.add_thing(Explorer(program), (1, 1), True)\n",
        "\n",
        "    def get_world(self, show_walls=True):\n",
        "        \"\"\"Return the items in the world\"\"\"\n",
        "        result = []\n",
        "        x_start, y_start = (0, 0) if show_walls else (1, 1)\n",
        "\n",
        "        if show_walls:\n",
        "            x_end, y_end = self.width, self.height\n",
        "        else:\n",
        "            x_end, y_end = self.width - 1, self.height - 1\n",
        "\n",
        "        for x in range(x_start, x_end):\n",
        "            row = []\n",
        "            for y in range(y_start, y_end):\n",
        "                row.append(self.list_things_at((x, y)))\n",
        "            result.append(row)\n",
        "        return result\n",
        "\n",
        "    def percepts_from(self, agent, location, tclass=Thing):\n",
        "        \"\"\"Return percepts from a given location,\n",
        "        and replaces some items with percepts from chapter 7.\"\"\"\n",
        "        thing_percepts = {\n",
        "            Gold: Glitter(),\n",
        "            Wall: Bump(),\n",
        "            Wumpus: Stench(),\n",
        "            Pit: Breeze()}\n",
        "\n",
        "        \"\"\"Agents don't need to get their percepts\"\"\"\n",
        "        thing_percepts[agent.__class__] = None\n",
        "\n",
        "        \"\"\"Gold only glitters in its cell\"\"\"\n",
        "        if location != agent.location:\n",
        "            thing_percepts[Gold] = None\n",
        "\n",
        "        result = [thing_percepts.get(thing.__class__, thing) for thing in self.things\n",
        "                  if thing.location == location and isinstance(thing, tclass)]\n",
        "        return result if len(result) else [None]\n",
        "\n",
        "    def percept(self, agent):\n",
        "        \"\"\"Return things in adjacent (not diagonal) cells of the agent.\n",
        "        Result format: [Left, Right, Up, Down, Center / Current location]\"\"\"\n",
        "        x, y = agent.location\n",
        "        result = []\n",
        "        result.append(self.percepts_from(agent, (x - 1, y)))\n",
        "        result.append(self.percepts_from(agent, (x + 1, y)))\n",
        "        result.append(self.percepts_from(agent, (x, y - 1)))\n",
        "        result.append(self.percepts_from(agent, (x, y + 1)))\n",
        "        result.append(self.percepts_from(agent, (x, y)))\n",
        "\n",
        "        \"\"\"The wumpus gives out a loud scream once it's killed.\"\"\"\n",
        "        wumpus = [thing for thing in self.things if isinstance(thing, Wumpus)]\n",
        "        if len(wumpus) and not wumpus[0].alive and not wumpus[0].screamed:\n",
        "            result[-1].append(Scream())\n",
        "            wumpus[0].screamed = True\n",
        "\n",
        "        return result\n",
        "\n",
        "    def execute_action(self, agent, action):\n",
        "        \"\"\"Modify the state of the environment based on the agent's actions.\n",
        "        Performance score taken directly out of the book.\"\"\"\n",
        "\n",
        "        if isinstance(agent, Explorer) and self.in_danger(agent):\n",
        "            return\n",
        "            \n",
        "        agent.bump = False\n",
        "        if action in ['TurnRight', 'TurnLeft', 'Forward', 'Grab']:\n",
        "            super().execute_action(agent, action)\n",
        "            agent.performance -= 1\n",
        "        elif action == 'Climb':\n",
        "            if agent.location == (1, 1):  # Agent can only climb out of (1,1)\n",
        "                agent.performance += 1000 if Gold() in agent.holding else 0\n",
        "                self.delete_thing(agent)\n",
        "        elif action == 'Shoot':\n",
        "            \"\"\"The arrow travels straight down the path the agent is facing\"\"\"\n",
        "            if agent.has_arrow:\n",
        "                arrow_travel = agent.direction.move_forward(agent.location)\n",
        "                while self.is_inbounds(arrow_travel):\n",
        "                    wumpus = [thing for thing in self.list_things_at(arrow_travel)\n",
        "                              if isinstance(thing, Wumpus)]\n",
        "                    if len(wumpus):\n",
        "                        wumpus[0].alive = False\n",
        "                        break\n",
        "                    arrow_travel = agent.direction.move_forward(agent.location)\n",
        "                agent.has_arrow = False\n",
        "\n",
        "    def in_danger(self, agent):\n",
        "        \"\"\"Check if Explorer is in danger (Pit or Wumpus), if he is, kill him\"\"\"\n",
        "        for thing in self.list_things_at(agent.location):\n",
        "            if isinstance(thing, Pit) or (isinstance(thing, Wumpus) and thing.alive):\n",
        "                agent.alive = False\n",
        "                agent.performance -= 1000\n",
        "                agent.killed_by = thing.__class__.__name__\n",
        "                return True\n",
        "        return False\n",
        "\n",
        "    def is_done(self):\n",
        "        \"\"\"The game is over when the Explorer is killed\n",
        "        or if he climbs out of the cave only at (1,1).\"\"\"\n",
        "        explorer = [agent for agent in self.agents if isinstance(agent, Explorer)]\n",
        "        if len(explorer):\n",
        "            if explorer[0].alive:\n",
        "                return False\n",
        "            else:\n",
        "                print(\"Death by {} [-1000].\".format(explorer[0].killed_by))\n",
        "        else:\n",
        "            print(\"Explorer climbed out {}.\"\n",
        "                  .format(\"with Gold [+1000]!\" if Gold() not in self.things else \"without Gold [+0]\"))\n",
        "        return True\n",
        "\n",
        "    # TODO: Arrow needs to be implemented\n",
        "\n",
        "\n",
        "# ______________________________________________________________________________\n",
        "\n",
        "\n",
        "def compare_agents(EnvFactory, AgentFactories, n=10, steps=1000):\n",
        "    \"\"\"See how well each of several agents do in n instances of an environment.\n",
        "    Pass in a factory (constructor) for environments, and several for agents.\n",
        "    Create n instances of the environment, and run each agent in copies of\n",
        "    each one for steps. Return a list of (agent, average-score) tuples.\n",
        "    >>> environment = TrivialVacuumEnvironment\n",
        "    >>> agents = [ModelBasedVacuumAgent, ReflexVacuumAgent]\n",
        "    >>> result = compare_agents(environment, agents)\n",
        "    >>> performance_ModelBasedVacuumAgent = result[0][1]\n",
        "    >>> performance_ReflexVacuumAgent = result[1][1]\n",
        "    >>> performance_ReflexVacuumAgent <= performance_ModelBasedVacuumAgent\n",
        "    True\n",
        "    \"\"\"\n",
        "    envs = [EnvFactory() for i in range(n)]\n",
        "    return [(A, test_agent(A, steps, copy.deepcopy(envs)))\n",
        "            for A in AgentFactories]\n",
        "\n",
        "\n",
        "def test_agent(AgentFactory, steps, envs):\n",
        "    \"\"\"Return the mean score of running an agent in each of the envs, for steps\n",
        "    >>> def constant_prog(percept):\n",
        "    ...     return percept\n",
        "    ...\n",
        "    >>> agent = Agent(constant_prog)\n",
        "    >>> result = agent.program(5)\n",
        "    >>> result == 5\n",
        "    True\n",
        "    \"\"\"\n",
        "\n",
        "    def score(env):\n",
        "        agent = AgentFactory()\n",
        "        env.add_thing(agent)\n",
        "        env.run(steps)\n",
        "        return agent.performance\n",
        "\n",
        "    return mean(map(score, envs))\n",
        "\n",
        "\n",
        "# _________________________________________________________________________\n",
        "\n",
        "\n",
        "__doc__ += \"\"\"\n",
        ">>> a = ReflexVacuumAgent()\n",
        ">>> a.program((loc_A, 'Clean'))\n",
        "'Right'\n",
        ">>> a.program((loc_B, 'Clean'))\n",
        "'Left'\n",
        ">>> a.program((loc_A, 'Dirty'))\n",
        "'Suck'\n",
        ">>> a.program((loc_A, 'Dirty'))\n",
        "'Suck'\n",
        "\n",
        ">>> e = TrivialVacuumEnvironment()\n",
        ">>> e.add_thing(ModelBasedVacuumAgent())\n",
        ">>> e.run(5)\n",
        "\n",
        "\"\"\""
      ],
      "execution_count": null,
      "outputs": []
    },
    {
      "cell_type": "code",
      "metadata": {
        "id": "WSs3Lyz3q-_-"
      },
      "source": [
        "#modified TrivailVacumEnvironment\n",
        "loc_A = (0,0)\n",
        "loc_B = (1,0)\n",
        "loc_c = (0,1)\n",
        "loc_d = (1,1)\n",
        "class TrivialVacuumEnvironment(Environment):\n",
        "    \"\"\"This environment has two locations, A and B. Each can be Dirty\n",
        "    or Clean. The agent perceives its location and the location's\n",
        "    status. This serves as an example of how to implement a simple\n",
        "    Environment.\"\"\"\n",
        "\n",
        "    def __init__(self):\n",
        "        super().__init__()\n",
        "        self.status = {loc_A: random.choice(['Clean', 'Dirty']),\n",
        "                       loc_B: random.choice(['Clean', 'Dirty']),\n",
        "                       loc_c: random.choice(['Clean','Dirty']),\n",
        "                       loc_d: 'Wall'}\n",
        "\n",
        "    def thing_classes(self):\n",
        "        return [Wall, Dirt, ReflexVacuumAgent, RandomVacuumAgent, TableDrivenVacuumAgent, ModelBasedVacuumAgent]\n",
        "\n",
        "    def percept(self, agent):\n",
        "        \"\"\"Returns the agent's location, and the location status (Dirty/Clean).\"\"\"\n",
        "        return agent.location, self.status[agent.location]\n",
        "\n",
        "    def execute_action(self, agent, action):\n",
        "        \"\"\"Change agent's location and/or location's status; track performance.\n",
        "        Score 10 for each dirt cleaned; -1 for each move.\"\"\"\n",
        "        print(f'Agent location {agent.location} and agent action {action}')\n",
        "        if action == 'Right':\n",
        "          if agent.location == loc_A:\n",
        "            agent.location = loc_B\n",
        "            agent.performance -= 1\n",
        "          elif agent.location == loc_c:\n",
        "            agent.location = loc_d\n",
        "            agent.performance -= 1\n",
        "          #add statment pass\n",
        "        elif action == 'Left':\n",
        "          if agent.location == loc_B:\n",
        "            agent.location = loc_A\n",
        "            agent.performance -= 1\n",
        "          elif agent.location == loc_d:\n",
        "            agent.location = loc_c\n",
        "            agent.performance -= 1\n",
        "        elif action == 'down':\n",
        "          if agent.location == loc_c:\n",
        "            agent.location = loc_A\n",
        "            agent.performance -= 1\n",
        "          elif agent.location == loc_d:\n",
        "            agent.location = loc_B\n",
        "            agent.performance -= 1\n",
        "        elif action == 'up':\n",
        "          if agent.location == loc_A:\n",
        "            agent.location = loc_c\n",
        "            agent.performance -= 1\n",
        "          elif agent.location == loc_B:\n",
        "            agent.location = loc_d\n",
        "            agent.performance -= 1\n",
        "        elif action == 'Suck':\n",
        "            if self.status[agent.location] == 'Dirty':\n",
        "                agent.performance += 10\n",
        "            self.status[agent.location] = 'Clean'\n",
        "        \n",
        "        #add randomness   \n",
        "        if random.random() > 0.5:\n",
        "          self.status = {loc_A: random.choice(['Clean', 'Dirty']),\n",
        "                       loc_B: random.choice(['Clean', 'Dirty']),\n",
        "                       loc_c: random.choice(['Clean','Dirty']),\n",
        "                       loc_d: random.choice(['Clean','Dirty'])}\n",
        "          print('it Happeneedddddddddddddddd!!!!!!!')\n",
        "    def default_location(self, thing):\n",
        "        \"\"\"Agents start in either location at random.\"\"\"\n",
        "        return random.choice([loc_A, loc_B, loc_c, loc_d])"
      ],
      "execution_count": null,
      "outputs": []
    },
    {
      "cell_type": "code",
      "metadata": {
        "colab": {
          "base_uri": "https://localhost:8080/"
        },
        "id": "CKO_G8zoLJEc",
        "outputId": "bc5fce6e-41f0-4c5e-fd1e-9d7769a14322"
      },
      "source": [
        "# These are the two locations for the two-state environment\n",
        "\n",
        "\n",
        "# Initialize the two-state environment\n",
        "trivial_vacuum_env = TrivialVacuumEnvironment()\n",
        "\n",
        "# Check the initial state of the environment\n",
        "print(\"State of the Environment: {}.\".format(trivial_vacuum_env.status))"
      ],
      "execution_count": null,
      "outputs": [
        {
          "output_type": "stream",
          "text": [
            "State of the Environment: {(0, 0): 'Dirty', (1, 0): 'Clean', (0, 1): 'Dirty', (1, 1): 'Wall'}.\n"
          ],
          "name": "stdout"
        }
      ]
    },
    {
      "cell_type": "markdown",
      "metadata": {
        "id": "rhz5phVqLJEe"
      },
      "source": [
        "Let's create our agent now. This agent will choose any of the actions from 'Right', 'Left', 'Suck' and 'NoOp' (No Operation) randomly."
      ]
    },
    {
      "cell_type": "code",
      "metadata": {
        "id": "fOLEkvc-LJEf"
      },
      "source": [
        "# Create the random agent\n",
        "random_agent = Agent(program=RandomAgentProgram(['Right', 'Left', 'up', 'down' 'Suck', 'NoOp']))"
      ],
      "execution_count": null,
      "outputs": []
    },
    {
      "cell_type": "markdown",
      "metadata": {
        "id": "8sJVAk3HLJEg"
      },
      "source": [
        "We will now add our agent to the environment."
      ]
    },
    {
      "cell_type": "code",
      "metadata": {
        "colab": {
          "base_uri": "https://localhost:8080/"
        },
        "id": "gzhWwaolLJEi",
        "outputId": "9d25d412-680c-4ed7-b418-66759ac169f6"
      },
      "source": [
        "# Add agent to the environment\n",
        "trivial_vacuum_env.add_thing(random_agent)\n",
        "\n",
        "print(\"RandomVacuumAgent is located at {}.\".format(random_agent.location))"
      ],
      "execution_count": null,
      "outputs": [
        {
          "output_type": "stream",
          "text": [
            "RandomVacuumAgent is located at (1, 1).\n"
          ],
          "name": "stdout"
        }
      ]
    },
    {
      "cell_type": "markdown",
      "metadata": {
        "id": "xz2vSZ-zLJEj"
      },
      "source": [
        "Let's run our environment now."
      ]
    },
    {
      "cell_type": "code",
      "metadata": {
        "colab": {
          "base_uri": "https://localhost:8080/"
        },
        "id": "ZrTux0gJLJEk",
        "outputId": "3517bc01-7c1b-4a7f-ee10-ba56b3f26a40"
      },
      "source": [
        "# Running the environment\n",
        "trivial_vacuum_env.step()\n",
        "\n",
        "# Check the current state of the environment\n",
        "print(\"State of the Environment: {}.\".format(trivial_vacuum_env.status))\n",
        "\n",
        "print(\"RandomVacuumAgent is located at {}.\".format(random_agent.location))"
      ],
      "execution_count": null,
      "outputs": [
        {
          "output_type": "stream",
          "text": [
            "Agent location (1, 1) and agent action up\n",
            "State of the Environment: {(0, 0): 'Dirty', (1, 0): 'Clean', (0, 1): 'Dirty', (1, 1): 'Wall'}.\n",
            "RandomVacuumAgent is located at (1, 1).\n"
          ],
          "name": "stdout"
        }
      ]
    },
    {
      "cell_type": "code",
      "metadata": {
        "id": "QXnQkaahOx2S"
      },
      "source": [
        "random_agent.ex"
      ],
      "execution_count": null,
      "outputs": []
    },
    {
      "cell_type": "markdown",
      "metadata": {
        "id": "y7PsjVgzLJEl"
      },
      "source": [
        "## TABLE-DRIVEN AGENT PROGRAM\n",
        "\n",
        "A table-driven agent program keeps track of the percept sequence and then uses it to index into a table of actions to decide what to do. The table represents explicitly the agent function that the agent program embodies.  \n",
        "In the two-state vacuum world, the table would consist of all the possible states of the agent."
      ]
    },
    {
      "cell_type": "code",
      "metadata": {
        "id": "Y7NGJa2wLJEm"
      },
      "source": [
        "#the table filled taking into consideration all the possible possibilites\n",
        "table = {((loc_A, 'Clean'),): 'Right',\n",
        "             ((loc_A, 'Dirty'),): 'Suck',\n",
        "             ((loc_B, 'Clean'),): 'Left',\n",
        "             ((loc_B, 'Dirty'),): 'Suck',\n",
        "             ((loc_A, 'Dirty'), (loc_A, 'Clean')): 'Right',\n",
        "             ((loc_A, 'Clean'), (loc_B, 'Dirty')): 'Suck',\n",
        "             ((loc_B, 'Clean'), (loc_A, 'Dirty')): 'Suck',\n",
        "             ((loc_B, 'Dirty'), (loc_B, 'Clean')): 'Left',\n",
        "             ((loc_A, 'Dirty'), (loc_A, 'Clean'), (loc_B, 'Dirty')): 'Suck',\n",
        "             ((loc_B, 'Dirty'), (loc_B, 'Clean'), (loc_A, 'Dirty')): 'Suck'\n",
        "        }"
      ],
      "execution_count": null,
      "outputs": []
    },
    {
      "cell_type": "markdown",
      "metadata": {
        "id": "bXng6NZmLJEn"
      },
      "source": [
        "We will now create a table-driven agent program for our two-state environment."
      ]
    },
    {
      "cell_type": "code",
      "metadata": {
        "id": "ZpGSowDTLJEn"
      },
      "source": [
        "# Create a table-driven agent\n",
        "table_driven_agent = Agent(program=TableDrivenAgentProgram(table=table))"
      ],
      "execution_count": null,
      "outputs": []
    },
    {
      "cell_type": "markdown",
      "metadata": {
        "id": "NiZ_8XfGLJEo"
      },
      "source": [
        "Since we are using the same environment, let's remove the previously added random agent from the environment to avoid confusion."
      ]
    },
    {
      "cell_type": "code",
      "metadata": {
        "id": "ODFPOgAgLJEo"
      },
      "source": [
        "trivial_vacuum_env.delete_thing(random_agent)"
      ],
      "execution_count": null,
      "outputs": []
    },
    {
      "cell_type": "code",
      "metadata": {
        "colab": {
          "base_uri": "https://localhost:8080/"
        },
        "id": "VL2o8JSULJEq",
        "outputId": "2c3a3bc1-5323-4d72-80d3-35df19d01194"
      },
      "source": [
        "# Add the table-driven agent to the environment\n",
        "trivial_vacuum_env.add_thing(table_driven_agent)\n",
        "\n",
        "print(\"TableDrivenVacuumAgent is located at {}.\".format(table_driven_agent.location))"
      ],
      "execution_count": null,
      "outputs": [
        {
          "output_type": "stream",
          "text": [
            "TableDrivenVacuumAgent is located at (1, 1).\n"
          ],
          "name": "stdout"
        }
      ]
    },
    {
      "cell_type": "code",
      "metadata": {
        "colab": {
          "base_uri": "https://localhost:8080/"
        },
        "id": "XuRJ-5n3LJEr",
        "outputId": "6dfb35cc-0f6f-4ee6-dfe8-a384f3facdd2"
      },
      "source": [
        "# Run the environment\n",
        "trivial_vacuum_env.step()\n",
        "\n",
        "# Check the current state of the environment\n",
        "print(\"State of the Environment: {}.\".format(trivial_vacuum_env.status))\n",
        "\n",
        "print(\"TableDrivenVacuumAgent is located at {}.\".format(table_driven_agent.location))"
      ],
      "execution_count": null,
      "outputs": [
        {
          "output_type": "stream",
          "text": [
            "Agent location (1, 1) and agent action None\n",
            "State of the Environment: {(0, 0): 'Dirty', (1, 0): 'Dirty', (0, 1): 'Dirty', (1, 1): 'Dirty'}.\n",
            "TableDrivenVacuumAgent is located at (1, 1).\n"
          ],
          "name": "stdout"
        }
      ]
    },
    {
      "cell_type": "markdown",
      "metadata": {
        "id": "W4tQvsSILJEs"
      },
      "source": [
        "## SIMPLE REFLEX AGENT PROGRAM\n",
        "\n",
        "A simple reflex agent program selects actions on the basis of the *current* percept, ignoring the rest of the percept history. These agents work on a **condition-action rule** (also called **situation-action rule**, **production** or **if-then rule**), which tells the agent the action to trigger when a particular situation is encountered.  \n",
        "\n",
        "The schematic diagram shown in **Figure 2.9** of the book will make this more clear:\n",
        "\n",
        "\"![simple reflex agent](images/simple_reflex_agent.jpg)\""
      ]
    },
    {
      "cell_type": "markdown",
      "metadata": {
        "id": "txEi1XkJLJEt"
      },
      "source": [
        "Let us now create a simple reflex agent for the environment."
      ]
    },
    {
      "cell_type": "code",
      "metadata": {
        "id": "vBGgY1TxLJEu"
      },
      "source": [
        "# Delete the previously added table-driven agent\n",
        "trivial_vacuum_env.delete_thing(table_driven_agent)"
      ],
      "execution_count": null,
      "outputs": []
    },
    {
      "cell_type": "markdown",
      "metadata": {
        "id": "VqMFwcFXLJEv"
      },
      "source": [
        "To create our agent, we need two functions: INTERPRET-INPUT function, which generates an abstracted description of the current state from the percerpt and the RULE-MATCH function, which returns the first rule in the set of rules that matches the given state description."
      ]
    },
    {
      "cell_type": "code",
      "metadata": {
        "id": "2F9q5AiILJEv"
      },
      "source": [
        "\"\"\"We change the simpleReflexAgentProgram so that it doesn't make use of the Rule class\"\"\"\n",
        "def SimpleReflexAgentProgram():\n",
        "    \"\"\"This agent takes action based solely on the percept. [Figure 2.10]\"\"\"\n",
        "    \n",
        "    def program(percept):\n",
        "        loc, status = percept\n",
        "        #coming from the environment\n",
        "        action = 'Suck'\n",
        "        if  status == 'Dirty':\n",
        "          action = 'Suck'\n",
        "        elif status == 'Clean' and loc == (0,0): \n",
        "            action =    random.choice(['up', 'Right'])\n",
        "        elif status == 'Clean' and loc == (1,0):\n",
        "            action = random.choice(['up', 'Left'])\n",
        "        elif status  == 'Clean' and loc == (0,1):\n",
        "            action = random.choice(['down','Right'])\n",
        "        elif status == 'Clean' and loc == (1,1):\n",
        "            action = random.choice(['down','Left'])\n",
        "        return action\n",
        "                  \n",
        "    return program\n",
        "\n",
        "        \n",
        "# Create a simple reflex agent the two-state environment\n",
        "program = SimpleReflexAgentProgram()\n",
        "simple_reflex_agent = Agent(program)"
      ],
      "execution_count": null,
      "outputs": []
    },
    {
      "cell_type": "code",
      "metadata": {
        "id": "1CiiyC9d4XQi",
        "colab": {
          "base_uri": "https://localhost:8080/",
          "height": 459
        },
        "outputId": "6004eb8a-342f-4162-eb8b-c4d96fd85507"
      },
      "source": [
        "trivial_vacuum_env.delete_thing(simple_reflex_agent)"
      ],
      "execution_count": null,
      "outputs": [
        {
          "output_type": "stream",
          "text": [
            "list.remove(x): x not in list\n",
            "  in Environment delete_thing\n"
          ],
          "name": "stdout"
        },
        {
          "output_type": "error",
          "ename": "AttributeError",
          "evalue": "ignored",
          "traceback": [
            "\u001b[0;31m---------------------------------------------------------------------------\u001b[0m",
            "\u001b[0;31mValueError\u001b[0m                                Traceback (most recent call last)",
            "\u001b[0;32m/content/aima-python/agents.py\u001b[0m in \u001b[0;36mdelete_thing\u001b[0;34m(self, thing)\u001b[0m\n\u001b[1;32m    376\u001b[0m         \u001b[0;32mtry\u001b[0m\u001b[0;34m:\u001b[0m\u001b[0;34m\u001b[0m\u001b[0;34m\u001b[0m\u001b[0m\n\u001b[0;32m--> 377\u001b[0;31m             \u001b[0mself\u001b[0m\u001b[0;34m.\u001b[0m\u001b[0mthings\u001b[0m\u001b[0;34m.\u001b[0m\u001b[0mremove\u001b[0m\u001b[0;34m(\u001b[0m\u001b[0mthing\u001b[0m\u001b[0;34m)\u001b[0m\u001b[0;34m\u001b[0m\u001b[0;34m\u001b[0m\u001b[0m\n\u001b[0m\u001b[1;32m    378\u001b[0m         \u001b[0;32mexcept\u001b[0m \u001b[0mValueError\u001b[0m \u001b[0;32mas\u001b[0m \u001b[0me\u001b[0m\u001b[0;34m:\u001b[0m\u001b[0;34m\u001b[0m\u001b[0;34m\u001b[0m\u001b[0m\n",
            "\u001b[0;31mValueError\u001b[0m: list.remove(x): x not in list",
            "\nDuring handling of the above exception, another exception occurred:\n",
            "\u001b[0;31mAttributeError\u001b[0m                            Traceback (most recent call last)",
            "\u001b[0;32m<ipython-input-21-9220ac573f3d>\u001b[0m in \u001b[0;36m<module>\u001b[0;34m()\u001b[0m\n\u001b[0;32m----> 1\u001b[0;31m \u001b[0mtrivial_vacuum_env\u001b[0m\u001b[0;34m.\u001b[0m\u001b[0mdelete_thing\u001b[0m\u001b[0;34m(\u001b[0m\u001b[0msimple_reflex_agent\u001b[0m\u001b[0;34m)\u001b[0m\u001b[0;34m\u001b[0m\u001b[0;34m\u001b[0m\u001b[0m\n\u001b[0m",
            "\u001b[0;32m/content/aima-python/agents.py\u001b[0m in \u001b[0;36mdelete_thing\u001b[0;34m(self, thing)\u001b[0m\n\u001b[1;32m    379\u001b[0m             \u001b[0mprint\u001b[0m\u001b[0;34m(\u001b[0m\u001b[0me\u001b[0m\u001b[0;34m)\u001b[0m\u001b[0;34m\u001b[0m\u001b[0;34m\u001b[0m\u001b[0m\n\u001b[1;32m    380\u001b[0m             \u001b[0mprint\u001b[0m\u001b[0;34m(\u001b[0m\u001b[0;34m\"  in Environment delete_thing\"\u001b[0m\u001b[0;34m)\u001b[0m\u001b[0;34m\u001b[0m\u001b[0;34m\u001b[0m\u001b[0m\n\u001b[0;32m--> 381\u001b[0;31m             \u001b[0mprint\u001b[0m\u001b[0;34m(\u001b[0m\u001b[0;34m\"  Thing to be removed: {} at {}\"\u001b[0m\u001b[0;34m.\u001b[0m\u001b[0mformat\u001b[0m\u001b[0;34m(\u001b[0m\u001b[0mthing\u001b[0m\u001b[0;34m,\u001b[0m \u001b[0mthing\u001b[0m\u001b[0;34m.\u001b[0m\u001b[0mlocation\u001b[0m\u001b[0;34m)\u001b[0m\u001b[0;34m)\u001b[0m\u001b[0;34m\u001b[0m\u001b[0;34m\u001b[0m\u001b[0m\n\u001b[0m\u001b[1;32m    382\u001b[0m             \u001b[0mprint\u001b[0m\u001b[0;34m(\u001b[0m\u001b[0;34m\"  from list: {}\"\u001b[0m\u001b[0;34m.\u001b[0m\u001b[0mformat\u001b[0m\u001b[0;34m(\u001b[0m\u001b[0;34m[\u001b[0m\u001b[0;34m(\u001b[0m\u001b[0mthing\u001b[0m\u001b[0;34m,\u001b[0m \u001b[0mthing\u001b[0m\u001b[0;34m.\u001b[0m\u001b[0mlocation\u001b[0m\u001b[0;34m)\u001b[0m \u001b[0;32mfor\u001b[0m \u001b[0mthing\u001b[0m \u001b[0;32min\u001b[0m \u001b[0mself\u001b[0m\u001b[0;34m.\u001b[0m\u001b[0mthings\u001b[0m\u001b[0;34m]\u001b[0m\u001b[0;34m)\u001b[0m\u001b[0;34m)\u001b[0m\u001b[0;34m\u001b[0m\u001b[0;34m\u001b[0m\u001b[0m\n\u001b[1;32m    383\u001b[0m         \u001b[0;32mif\u001b[0m \u001b[0mthing\u001b[0m \u001b[0;32min\u001b[0m \u001b[0mself\u001b[0m\u001b[0;34m.\u001b[0m\u001b[0magents\u001b[0m\u001b[0;34m:\u001b[0m\u001b[0;34m\u001b[0m\u001b[0;34m\u001b[0m\u001b[0m\n",
            "\u001b[0;31mAttributeError\u001b[0m: 'Agent' object has no attribute 'location'"
          ]
        }
      ]
    },
    {
      "cell_type": "markdown",
      "metadata": {
        "id": "ElMSreTmLJEx"
      },
      "source": [
        "Now add the agent to the environment:"
      ]
    },
    {
      "cell_type": "code",
      "metadata": {
        "colab": {
          "base_uri": "https://localhost:8080/"
        },
        "id": "RH_GzSwtLJEy",
        "outputId": "a6b5ff53-a514-4934-8755-add4c35b12b6"
      },
      "source": [
        "trivial_vacuum_env.add_thing(simple_reflex_agent)\n",
        "\n",
        "print(\"SimpleReflexVacuumAgent is located at {}.\".format(simple_reflex_agent.location))"
      ],
      "execution_count": null,
      "outputs": [
        {
          "output_type": "stream",
          "text": [
            "SimpleReflexVacuumAgent is located at (0, 0).\n"
          ],
          "name": "stdout"
        }
      ]
    },
    {
      "cell_type": "code",
      "metadata": {
        "colab": {
          "base_uri": "https://localhost:8080/"
        },
        "id": "OSNCzwVvLJE0",
        "outputId": "4891f06c-4c49-44f8-f5f9-1cae2a89c67c"
      },
      "source": [
        "# Run the environment\n",
        "trivial_vacuum_env.step()\n",
        "\n",
        "# Check the current state of the environment\n",
        "print(\"State of the Environment: {}.\".format(trivial_vacuum_env.status))\n",
        "\n",
        "print(\"SimpleReflexVacuumAgent is located at {}.\".format(simple_reflex_agent.location))"
      ],
      "execution_count": null,
      "outputs": [
        {
          "output_type": "stream",
          "text": [
            "Agent location (0, 0) and agent action Suck\n",
            "State of the Environment: {(0, 0): 'Clean', (1, 0): 'Dirty', (0, 1): 'Dirty', (1, 1): 'Dirty'}.\n",
            "SimpleReflexVacuumAgent is located at (0, 0).\n"
          ],
          "name": "stdout"
        }
      ]
    },
    {
      "cell_type": "code",
      "metadata": {
        "colab": {
          "base_uri": "https://localhost:8080/"
        },
        "id": "K7tThjXNXqA8",
        "outputId": "5df7659a-33b0-4aef-b26f-e0672ee35d0d"
      },
      "source": [
        "print(trivial_vacuum_env.status)\n",
        "print(simple_reflex_agent.location)"
      ],
      "execution_count": null,
      "outputs": [
        {
          "output_type": "stream",
          "text": [
            "{(0, 0): 'Clean', (1, 0): 'Clean', (0, 1): 'Clean', (1, 1): 'Wall'}\n",
            "(0, 0)\n"
          ],
          "name": "stdout"
        }
      ]
    },
    {
      "cell_type": "code",
      "metadata": {
        "colab": {
          "base_uri": "https://localhost:8080/"
        },
        "id": "UlNhacD4YAo8",
        "outputId": "9214fe3a-efba-4fbb-c95f-e0579d0b15c8"
      },
      "source": [
        "status_agent = trivial_vacuum_env.status[(0,0)]\n",
        "print(status_agent)"
      ],
      "execution_count": null,
      "outputs": [
        {
          "output_type": "stream",
          "text": [
            "Clean\n"
          ],
          "name": "stdout"
        }
      ]
    },
    {
      "cell_type": "code",
      "metadata": {
        "colab": {
          "base_uri": "https://localhost:8080/"
        },
        "id": "QlbfgrX1SMTp",
        "outputId": "81d23a10-b2f9-49da-e276-6a7e6e626b48"
      },
      "source": [
        "def program(percept):\n",
        "        loc, status = percept\n",
        "print(f'old location {str(simple_reflex_agent.location)}')\n",
        "action_agent = simple_reflex_agent.program((simple_reflex_agent.location, status_agent))\n",
        "print(action_agent)\n",
        "\n",
        "trivial_vacuum_env.execute_action(simple_reflex_agent, action_agent)\n",
        "print(f'new location {str(simple_reflex_agent.location)}')"
      ],
      "execution_count": null,
      "outputs": [
        {
          "output_type": "stream",
          "text": [
            "old location (0, 1)\n",
            "down\n",
            "Agent location (0, 1) and agent action down\n",
            "new location (0, 0)\n"
          ],
          "name": "stdout"
        }
      ]
    },
    {
      "cell_type": "code",
      "metadata": {
        "colab": {
          "base_uri": "https://localhost:8080/"
        },
        "id": "Gq3vws44XFoQ",
        "outputId": "e855cff5-9391-4de3-e69e-8ba6c876541b"
      },
      "source": [
        "def program(percept):\n",
        "        loc, status = percept\n",
        "print(simple_reflex_agent.program((simple_reflex_agent.location,'Clean')))"
      ],
      "execution_count": null,
      "outputs": [
        {
          "output_type": "stream",
          "text": [
            "up\n"
          ],
          "name": "stdout"
        }
      ]
    },
    {
      "cell_type": "code",
      "metadata": {
        "colab": {
          "base_uri": "https://localhost:8080/"
        },
        "id": "2rygz-g9UGBs",
        "outputId": "cd301302-47d5-4afd-f018-f2770e895e27"
      },
      "source": [
        "print(trivial_vacuum_env.execute_action(simple_reflex_agent, 'Right'))"
      ],
      "execution_count": null,
      "outputs": [
        {
          "output_type": "stream",
          "text": [
            "None\n"
          ],
          "name": "stdout"
        }
      ]
    },
    {
      "cell_type": "code",
      "metadata": {
        "colab": {
          "base_uri": "https://localhost:8080/"
        },
        "id": "OVIyxukcUnKT",
        "outputId": "fe2b79ff-7446-4a84-b418-f448a975d1e0"
      },
      "source": [
        "simple_reflex_agent.location"
      ],
      "execution_count": null,
      "outputs": [
        {
          "output_type": "execute_result",
          "data": {
            "text/plain": [
              "(1, 0)"
            ]
          },
          "metadata": {
            "tags": []
          },
          "execution_count": 63
        }
      ]
    },
    {
      "cell_type": "markdown",
      "metadata": {
        "id": "GWLuA9Q9LJE1"
      },
      "source": [
        "## MODEL-BASED REFLEX AGENT PROGRAM\n",
        "\n",
        "A model-based reflex agent maintains some sort of **internal state** that depends on the percept history and thereby reflects at least some of the unobserved aspects of the current state. In addition to this, it also requires a **model** of the world, that is, knowledge about \"how the world works\".\n",
        "\n",
        "The schematic diagram shown in **Figure 2.11** of the book will make this more clear:\n",
        "<img src=\"files/images/model_based_reflex_agent.jpg\">"
      ]
    },
    {
      "cell_type": "markdown",
      "metadata": {
        "id": "GDAje7viLJE2"
      },
      "source": [
        "We will now create a model-based reflex agent for the environment:"
      ]
    },
    {
      "cell_type": "code",
      "metadata": {
        "id": "sly-EvibLJE2"
      },
      "source": [
        "# Delete the previously added simple reflex agent\n",
        "trivial_vacuum_env.delete_thing(simple_reflex_agent)"
      ],
      "execution_count": null,
      "outputs": []
    },
    {
      "cell_type": "code",
      "metadata": {
        "colab": {
          "base_uri": "https://localhost:8080/"
        },
        "id": "7-6geLB7mdH-",
        "outputId": "e5420912-a827-411c-dc2e-c3dce8211216"
      },
      "source": [
        "trivial_vacuum_env.step()"
      ],
      "execution_count": null,
      "outputs": [
        {
          "output_type": "stream",
          "text": [
            "Agent location (0, 1) and agent action Suck\n",
            "it Happeneedddddddddddddddd!!!!!!!\n"
          ],
          "name": "stdout"
        }
      ]
    },
    {
      "cell_type": "code",
      "metadata": {
        "id": "xL5J88CTngsT"
      },
      "source": [
        "def ModelBasedVacuumAgent(update_state):\n",
        "    \"\"\"An agent that keeps track of what locations are clean or dirty.\n",
        "    >>> agent = ModelBasedVacuumAgent()\n",
        "    >>> environment = TrivialVacuumEnvironment()\n",
        "    >>> environment.add_thing(agent)\n",
        "    >>> environment.run()\n",
        "    >>> environment.status == {(1,0):'Clean' , (0,0) : 'Clean'}\n",
        "    True\n",
        "    \"\"\"\n",
        "      \n",
        "    model = {loc_A: None, loc_B: None}\n",
        "    state = {loc_A: None, loc_B: None, loc_c: None, loc_d: None}\n",
        "    last_action = None\n",
        "\n",
        "    def program(percept):\n",
        "        \"\"\"Same as ReflexVacuumAgent, except if everything is clean, do NoOp.\"\"\"\n",
        "        nonlocal last_action\n",
        "        location, status = percept\n",
        "        update_state(state, last_action, percept, model)\n",
        "        action = 'NoOp'\n",
        "        if state[loc_A] == state[loc_B] == 'Clean':\n",
        "            action ='NoOp'\n",
        "        elif status == 'Dirty':\n",
        "            action ='Suck'\n",
        "        elif location == loc_A:\n",
        "            action = 'Right'\n",
        "        elif location == loc_B:\n",
        "            action = 'Left'\n",
        "        last_action = action\n",
        "        return action\n",
        "\n",
        "    return Agent(program)"
      ],
      "execution_count": null,
      "outputs": []
    },
    {
      "cell_type": "code",
      "metadata": {
        "colab": {
          "base_uri": "https://localhost:8080/"
        },
        "id": "1_FZd7yCsT-l",
        "outputId": "1bc4e9d4-b378-4ed4-e3f7-5df602619757"
      },
      "source": [
        "trivial_vacuum_env.delete_thing(simple_reflex_agent)"
      ],
      "execution_count": null,
      "outputs": [
        {
          "output_type": "stream",
          "text": [
            "list.remove(x): x not in list\n",
            "  in Environment delete_thing\n",
            "  Thing to be removed: <Agent> at (1, 0)\n",
            "  from list: [(<Agent>, (0, 1)), (<Agent>, (0, 1)), (<Agent>, (0, 0)), (<Agent>, (0, 0)), (<Agent>, (1, 0)), (<Agent>, (1, 1)), (<Agent>, (0, 1)), (<Agent>, (0, 0))]\n"
          ],
          "name": "stdout"
        }
      ]
    },
    {
      "cell_type": "code",
      "metadata": {
        "id": "bjgzOanPsXpy"
      },
      "source": [
        "trivial_vacuum_env.delete_thing(model_based_reflex_agent)"
      ],
      "execution_count": null,
      "outputs": []
    },
    {
      "cell_type": "markdown",
      "metadata": {
        "id": "Vsm9XFtFLJE3"
      },
      "source": [
        "We need another function UPDATE-STATE which will be responsible for creating a new state description."
      ]
    },
    {
      "cell_type": "code",
      "metadata": {
        "colab": {
          "base_uri": "https://localhost:8080/"
        },
        "id": "RrmQVLkkLJE3",
        "outputId": "731ae9ee-0b91-4cd1-c25d-b014e804ec68"
      },
      "source": [
        "# TODO: Implement this function for the two-dimensional environment\n",
        "def update_state(state, action, percept, model):\n",
        "  #the first step in this agent is to percieve the current envrionment and update the old information\n",
        "  #depending on those information the agent decides which action to take\n",
        "  \n",
        "  loc, status = percept\n",
        "  #you know both the location and status\n",
        "\n",
        "\n",
        "  if random.random() > 0.5:\n",
        "          state = {loc_A: random.choice(['Clean', 'Dirty']),\n",
        "                       loc_B: random.choice(['Clean', 'Dirty']),\n",
        "                       loc_c: random.choice(['Clean','Dirty']),\n",
        "                       loc_d: random.choice(['Clean','Dirty'])}\n",
        "          \n",
        "          print('it Happeneedddddddddddddddd!!!!!!!')\n",
        "  #after you performed an action on any of the none percieved states their status may have changed \n",
        "  \n",
        "  status.status[loc] = status\n",
        "  #to ensure the most recent state status is the same as percieved\n",
        "  #however this has just been percived\n",
        "\n",
        "\n",
        "\n",
        "# Create a model-based reflex agent\n",
        "model_based_reflex_agent = ModelBasedVacuumAgent(update_state)\n",
        "\n",
        "# Add the agent to the environment\n",
        "trivial_vacuum_env.add_thing(model_based_reflex_agent)\n",
        "\n",
        "print(\"ModelBasedVacuumAgent is located at {}.\".format(model_based_reflex_agent.location))"
      ],
      "execution_count": null,
      "outputs": [
        {
          "output_type": "stream",
          "text": [
            "ModelBasedVacuumAgent is located at (1, 1).\n"
          ],
          "name": "stdout"
        }
      ]
    },
    {
      "cell_type": "code",
      "metadata": {
        "colab": {
          "base_uri": "https://localhost:8080/",
          "height": 374
        },
        "id": "QVrsm2mwLJE4",
        "outputId": "00bd3dc3-1b32-4ca7-f6ea-eef6ff93355f"
      },
      "source": [
        "# Run the environment\n",
        "trivial_vacuum_env.step()\n",
        "\n",
        "# Check the current state of the environment\n",
        "print(\"State of the Environment: {}.\".format(trivial_vacuum_env.status))\n",
        "\n",
        "print(\"ModelBasedVacuumAgent is located at {}.\".format(model_based_reflex_agent.location))"
      ],
      "execution_count": null,
      "outputs": [
        {
          "output_type": "error",
          "ename": "UnboundLocalError",
          "evalue": "ignored",
          "traceback": [
            "\u001b[0;31m---------------------------------------------------------------------------\u001b[0m",
            "\u001b[0;31mUnboundLocalError\u001b[0m                         Traceback (most recent call last)",
            "\u001b[0;32m<ipython-input-188-f28f8bb24281>\u001b[0m in \u001b[0;36m<module>\u001b[0;34m()\u001b[0m\n\u001b[1;32m      1\u001b[0m \u001b[0;31m# Run the environment\u001b[0m\u001b[0;34m\u001b[0m\u001b[0;34m\u001b[0m\u001b[0;34m\u001b[0m\u001b[0m\n\u001b[0;32m----> 2\u001b[0;31m \u001b[0mtrivial_vacuum_env\u001b[0m\u001b[0;34m.\u001b[0m\u001b[0mstep\u001b[0m\u001b[0;34m(\u001b[0m\u001b[0;34m)\u001b[0m\u001b[0;34m\u001b[0m\u001b[0;34m\u001b[0m\u001b[0m\n\u001b[0m\u001b[1;32m      3\u001b[0m \u001b[0;34m\u001b[0m\u001b[0m\n\u001b[1;32m      4\u001b[0m \u001b[0;31m# Check the current state of the environment\u001b[0m\u001b[0;34m\u001b[0m\u001b[0;34m\u001b[0m\u001b[0;34m\u001b[0m\u001b[0m\n\u001b[1;32m      5\u001b[0m \u001b[0mprint\u001b[0m\u001b[0;34m(\u001b[0m\u001b[0;34m\"State of the Environment: {}.\"\u001b[0m\u001b[0;34m.\u001b[0m\u001b[0mformat\u001b[0m\u001b[0;34m(\u001b[0m\u001b[0mtrivial_vacuum_env\u001b[0m\u001b[0;34m.\u001b[0m\u001b[0mstatus\u001b[0m\u001b[0;34m)\u001b[0m\u001b[0;34m)\u001b[0m\u001b[0;34m\u001b[0m\u001b[0;34m\u001b[0m\u001b[0m\n",
            "\u001b[0;32m/content/aima-python/agents.py\u001b[0m in \u001b[0;36mstep\u001b[0;34m(self)\u001b[0m\n\u001b[1;32m    330\u001b[0m             \u001b[0;32mfor\u001b[0m \u001b[0magent\u001b[0m \u001b[0;32min\u001b[0m \u001b[0mself\u001b[0m\u001b[0;34m.\u001b[0m\u001b[0magents\u001b[0m\u001b[0;34m:\u001b[0m\u001b[0;34m\u001b[0m\u001b[0;34m\u001b[0m\u001b[0m\n\u001b[1;32m    331\u001b[0m                 \u001b[0;32mif\u001b[0m \u001b[0magent\u001b[0m\u001b[0;34m.\u001b[0m\u001b[0malive\u001b[0m\u001b[0;34m:\u001b[0m\u001b[0;34m\u001b[0m\u001b[0;34m\u001b[0m\u001b[0m\n\u001b[0;32m--> 332\u001b[0;31m                     \u001b[0mactions\u001b[0m\u001b[0;34m.\u001b[0m\u001b[0mappend\u001b[0m\u001b[0;34m(\u001b[0m\u001b[0magent\u001b[0m\u001b[0;34m.\u001b[0m\u001b[0mprogram\u001b[0m\u001b[0;34m(\u001b[0m\u001b[0mself\u001b[0m\u001b[0;34m.\u001b[0m\u001b[0mpercept\u001b[0m\u001b[0;34m(\u001b[0m\u001b[0magent\u001b[0m\u001b[0;34m)\u001b[0m\u001b[0;34m)\u001b[0m\u001b[0;34m)\u001b[0m\u001b[0;34m\u001b[0m\u001b[0;34m\u001b[0m\u001b[0m\n\u001b[0m\u001b[1;32m    333\u001b[0m                 \u001b[0;32melse\u001b[0m\u001b[0;34m:\u001b[0m\u001b[0;34m\u001b[0m\u001b[0;34m\u001b[0m\u001b[0m\n\u001b[1;32m    334\u001b[0m                     \u001b[0mactions\u001b[0m\u001b[0;34m.\u001b[0m\u001b[0mappend\u001b[0m\u001b[0;34m(\u001b[0m\u001b[0;34m\"\"\u001b[0m\u001b[0;34m)\u001b[0m\u001b[0;34m\u001b[0m\u001b[0;34m\u001b[0m\u001b[0m\n",
            "\u001b[0;32m<ipython-input-159-1842e5cfc433>\u001b[0m in \u001b[0;36mprogram\u001b[0;34m(percept)\u001b[0m\n\u001b[1;32m     16\u001b[0m         \u001b[0;34m\"\"\"Same as ReflexVacuumAgent, except if everything is clean, do NoOp.\"\"\"\u001b[0m\u001b[0;34m\u001b[0m\u001b[0;34m\u001b[0m\u001b[0m\n\u001b[1;32m     17\u001b[0m         \u001b[0mlocation\u001b[0m\u001b[0;34m,\u001b[0m \u001b[0mstatus\u001b[0m \u001b[0;34m=\u001b[0m \u001b[0mpercept\u001b[0m\u001b[0;34m\u001b[0m\u001b[0;34m\u001b[0m\u001b[0m\n\u001b[0;32m---> 18\u001b[0;31m         \u001b[0mupdate_state\u001b[0m\u001b[0;34m(\u001b[0m\u001b[0mstate\u001b[0m\u001b[0;34m,\u001b[0m \u001b[0mlast_action\u001b[0m\u001b[0;34m,\u001b[0m \u001b[0mpercept\u001b[0m\u001b[0;34m,\u001b[0m \u001b[0mmodel\u001b[0m\u001b[0;34m)\u001b[0m\u001b[0;34m\u001b[0m\u001b[0;34m\u001b[0m\u001b[0m\n\u001b[0m\u001b[1;32m     19\u001b[0m         \u001b[0maction\u001b[0m \u001b[0;34m=\u001b[0m \u001b[0;34m'NoOp'\u001b[0m\u001b[0;34m\u001b[0m\u001b[0;34m\u001b[0m\u001b[0m\n\u001b[1;32m     20\u001b[0m         \u001b[0;32mif\u001b[0m \u001b[0mstate\u001b[0m\u001b[0;34m[\u001b[0m\u001b[0mloc_A\u001b[0m\u001b[0;34m]\u001b[0m \u001b[0;34m==\u001b[0m \u001b[0mstate\u001b[0m\u001b[0;34m[\u001b[0m\u001b[0mloc_B\u001b[0m\u001b[0;34m]\u001b[0m \u001b[0;34m==\u001b[0m \u001b[0;34m'Clean'\u001b[0m\u001b[0;34m:\u001b[0m\u001b[0;34m\u001b[0m\u001b[0;34m\u001b[0m\u001b[0m\n",
            "\u001b[0;31mUnboundLocalError\u001b[0m: local variable 'last_action' referenced before assignment"
          ]
        }
      ]
    },
    {
      "cell_type": "code",
      "metadata": {
        "colab": {
          "base_uri": "https://localhost:8080/"
        },
        "id": "CX7osyzTR-n9",
        "outputId": "cfccaba4-0c07-452b-95cd-26d3225a69c9"
      },
      "source": [
        "#model_based_reflex_agent.location,'Dirty'\n",
        "print(trivial_vacuum_env.execute_action(model_based_reflex_agent, 'Dirty'))"
      ],
      "execution_count": null,
      "outputs": [
        {
          "output_type": "stream",
          "text": [
            "None\n"
          ],
          "name": "stdout"
        }
      ]
    },
    {
      "cell_type": "markdown",
      "metadata": {
        "id": "Nx52ettpLJE5"
      },
      "source": [
        "## GOAL-BASED AGENT PROGRAM\n",
        "\n",
        "A goal-based agent needs some sort of **goal** information that describes situations that are desirable, apart from the current state description.\n",
        "\n",
        "**Figure 2.13** of the book shows a model-based, goal-based agent:\n",
        "<img src=\"files/images/model_goal_based_agent.jpg\">\n",
        "\n",
        "**Search** (Chapters 3 to 5) and **Planning** (Chapters 10 to 11) are the subfields of AI devoted to finding action sequences that achieve the agent's goals.\n",
        "\n",
        "## UTILITY-BASED AGENT PROGRAM\n",
        "\n",
        "A utility-based agent maximizes its **utility** using the agent's **utility function**, which is essentially an internalization of the agent's performance measure.\n",
        "\n",
        "**Figure 2.14** of the book shows a model-based, utility-based agent:\n",
        "<img src=\"files/images/model_utility_based_agent.jpg\">"
      ]
    },
    {
      "cell_type": "markdown",
      "metadata": {
        "id": "-lxHry9DLJE5"
      },
      "source": [
        "## LEARNING AGENT\n",
        "\n",
        "Learning allows the agent to operate in initially unknown environments and to become more competent than its initial knowledge alone might allow. Here, we will breifly introduce the main ideas of learning agents.  \n",
        "\n",
        "A learning agent can be divided into four conceptual components. The **learning element** is responsible for making improvements. It uses the feedback from the **critic** on how the agent is doing and determines how the performance element should be modified to do better in the future. The **performance element** is responsible for selecting external actions for the agent: it takes in percepts and decides on actions. The critic tells the learning element how well the agent is doing with respect to a fixed performance standard. It is necesaary because the percepts themselves provide no indication of the agent's success. The last component of the learning agent is the **problem generator**. It is responsible for suggesting actions that will lead to new and informative experiences.  \n",
        "\n",
        "**Figure 2.15** of the book sums up the components and their working:  \n",
        "<img src=\"files/images/general_learning_agent.jpg\">"
      ]
    }
  ]
}